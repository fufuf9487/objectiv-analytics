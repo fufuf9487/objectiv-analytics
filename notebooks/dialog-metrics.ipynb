{
 "cells": [
  {
   "cell_type": "markdown",
   "id": "d19add01-3e05-4c31-997b-4cbcb3b6892d",
   "metadata": {},
   "source": [
    "# Dialog metrics"
   ]
  },
  {
   "cell_type": "markdown",
   "id": "1fb0e7ae-2be5-405e-b9a1-7982bc4a2e6f",
   "metadata": {},
   "source": [
    "This is an example notebook on how to use Objectiv on Dialog data. It uses a lot of pieces from our [example notebooks](https://objectiv.io/docs/modeling/example_notebooks/) section of our docs. Here you can also find the overall reference for the [open model hub](https://objectiv.io/docs/modeling/models) and [Bach](https://objectiv.io/docs/modeling/bach)."
   ]
  },
  {
   "cell_type": "markdown",
   "id": "b6f1baa7-2a8d-4479-960a-562837d1e8a8",
   "metadata": {},
   "source": [
    "## Getting started\n",
    "### Import the required packages for this notebook\n",
    "The open model hub package can be installed with `pip install objectiv-modelhub` (this installs Bach as well).  \n",
    "If you are running this notebook from our quickstart, the model hub and Bach are already installed, so you don't have to install it separately."
   ]
  },
  {
   "cell_type": "code",
   "execution_count": null,
   "id": "a97fbeea-8c23-4722-9e63-db8d443a0496",
   "metadata": {},
   "outputs": [],
   "source": [
    "from modelhub import ModelHub\n",
    "from bach import display_sql_as_markdown"
   ]
  },
  {
   "cell_type": "markdown",
   "id": "5d27dd5c-8397-4f3a-a387-d95acb0474a0",
   "metadata": {},
   "source": [
    "At first we have to instantiate the Objectiv DataFrame object and the model hub."
   ]
  },
  {
   "cell_type": "code",
   "execution_count": null,
   "id": "2d398967-3d01-4c73-89e0-af6a70f957af",
   "metadata": {},
   "outputs": [],
   "source": [
    "# instantiate the model hub\n",
    "modelhub = ModelHub(time_aggregation='YYYY-MM-DD')\n",
    "\n",
    "# get the Bach DataFrame with Dialog data > REPLACE WITH YOUR PG CREDENTIALS\n",
    "df = modelhub.get_objectiv_dataframe(db_url='',\n",
    "                                     start_date='2022-03-01',\n",
    "                                     table_name='')"
   ]
  },
  {
   "cell_type": "markdown",
   "id": "878fbf3e-3d21-4e8c-8233-818f99538db8",
   "metadata": {},
   "source": [
    "The columns 'global_contexts' and the 'location_stack' contain most of the event specific data. These columns\n",
    "are json type columns and we can extract data from it based on the keys of the json objects using `SeriesGlobalContexts` or `SeriesGlobalContexts` methods to extract the data."
   ]
  },
  {
   "cell_type": "code",
   "execution_count": null,
   "id": "37226ab4-f039-458a-8979-a8bc4fa80898",
   "metadata": {},
   "outputs": [],
   "source": [
    "# adding specific contexts to the data as columns\n",
    "df['application'] = df.global_contexts.gc.application\n",
    "df['feature_nice_name'] = df.location_stack.ls.nice_name\n",
    "df['root_location'] = df.location_stack.ls.get_from_context_with_type_series(type='RootLocationContext', key='id')"
   ]
  },
  {
   "cell_type": "markdown",
   "id": "46bef98c-026a-4322-87d3-7b1224ab1136",
   "metadata": {},
   "source": [
    "## Active users today per hour\n"
   ]
  },
  {
   "cell_type": "code",
   "execution_count": null,
   "id": "7d31ccf9-f0e0-4e1d-8422-f83fb367f0cf",
   "metadata": {},
   "outputs": [],
   "source": [
    "# model hub: active users today per hour\n",
    "users_today = modelhub.aggregate.unique_users(df[df.day == df.day.max()], groupby=modelhub.time_agg(df, 'YYYY-MM-DD-HH'))\n",
    "users_today.head() "
   ]
  },
  {
   "cell_type": "code",
   "execution_count": null,
   "id": "4d91934a-1b9e-4780-a6b0-63a18e797617",
   "metadata": {},
   "outputs": [],
   "source": [
    "# get the SQL\n",
    "display_sql_as_markdown(users_today)"
   ]
  },
  {
   "cell_type": "markdown",
   "id": "4b2181e4-9881-4769-b6df-f416a579ad80",
   "metadata": {},
   "source": [
    "## Daily active users"
   ]
  },
  {
   "cell_type": "code",
   "execution_count": null,
   "id": "c0114104-f3b0-47b3-b84b-bf07f035b63c",
   "metadata": {},
   "outputs": [],
   "source": [
    "# model hub: unique users, daily\n",
    "daily_users = modelhub.aggregate.unique_users(df)\n",
    "daily_users.sort_index(ascending=False).head()"
   ]
  },
  {
   "cell_type": "code",
   "execution_count": null,
   "id": "73e5a4db-b75d-4f60-91a4-624c44ce294e",
   "metadata": {},
   "outputs": [],
   "source": [
    "# get the SQL\n",
    "display_sql_as_markdown(daily_users)"
   ]
  },
  {
   "cell_type": "markdown",
   "id": "7e0da440-3ddc-4a52-a194-5e0ab8f3811c",
   "metadata": {},
   "source": [
    "## Monthly active users"
   ]
  },
  {
   "cell_type": "code",
   "execution_count": null,
   "id": "40dbc1d7-b28c-40f4-b553-5b63ebfb0c75",
   "metadata": {},
   "outputs": [],
   "source": [
    "# model hub: unique users, monthly\n",
    "monthly_users = modelhub.aggregate.unique_users(df, groupby=modelhub.time_agg(df, 'YYYY-MM'))\n",
    "monthly_users.head()"
   ]
  },
  {
   "cell_type": "code",
   "execution_count": null,
   "id": "f3a44f37-9be3-47d0-a8cd-bdd1429e14a4",
   "metadata": {},
   "outputs": [],
   "source": [
    "# get the SQL\n",
    "display_sql_as_markdown(monthly_users)"
   ]
  },
  {
   "cell_type": "markdown",
   "id": "1191a94f-2666-45ab-a355-28fa9921b86f",
   "metadata": {},
   "source": [
    "## Daily sessions"
   ]
  },
  {
   "cell_type": "code",
   "execution_count": null,
   "id": "497b2094-291e-4753-b47e-bd8d83ff7078",
   "metadata": {},
   "outputs": [],
   "source": [
    "# model hub: unique sessions, daily\n",
    "daily_sessions = modelhub.aggregate.unique_sessions(df)\n",
    "daily_sessions.sort_index(ascending=False).head()"
   ]
  },
  {
   "cell_type": "code",
   "execution_count": null,
   "id": "73ef55cd-4f03-469d-808f-6149d546bb66",
   "metadata": {},
   "outputs": [],
   "source": [
    "# get the SQL\n",
    "display_sql_as_markdown(daily_sessions)"
   ]
  },
  {
   "cell_type": "markdown",
   "id": "683ccc83-b3ad-416b-8d5f-eb3498e33327",
   "metadata": {},
   "source": [
    "## Monthly sessions"
   ]
  },
  {
   "cell_type": "code",
   "execution_count": null,
   "id": "6e53ef15-7eb8-4d5a-a19f-d992a83a3618",
   "metadata": {},
   "outputs": [],
   "source": [
    "# model hub: unique sessions, monthly\n",
    "monthly_sessions = modelhub.aggregate.unique_sessions(df, groupby=modelhub.time_agg(df, 'YYYY-MM'))\n",
    "monthly_sessions.sort_index(ascending=False).head()"
   ]
  },
  {
   "cell_type": "code",
   "execution_count": null,
   "id": "102df861-cd21-4077-b99f-f0f558989404",
   "metadata": {},
   "outputs": [],
   "source": [
    "# get the SQL\n",
    "display_sql_as_markdown(monthly_sessions)"
   ]
  },
  {
   "cell_type": "markdown",
   "id": "298fc64d-8116-4cef-921f-a563e0d13ea5",
   "metadata": {},
   "source": [
    "## Average daily sessions per user"
   ]
  },
  {
   "cell_type": "code",
   "execution_count": null,
   "id": "b24a86b6-431b-4ca1-af56-0e5d11ec4081",
   "metadata": {},
   "outputs": [],
   "source": [
    "# use the earlier created users & sessions and calculate average\n",
    "daily_sessions_user = daily_sessions / daily_users\n",
    "daily_sessions_user.sort_index(ascending=False).head()"
   ]
  },
  {
   "cell_type": "code",
   "execution_count": null,
   "id": "12934847-3b74-49f1-8553-69096f92622c",
   "metadata": {},
   "outputs": [],
   "source": [
    "# get the SQL\n",
    "display_sql_as_markdown(daily_sessions_user)"
   ]
  },
  {
   "cell_type": "markdown",
   "id": "a728227c-b62c-4967-89de-4d428c0e739a",
   "metadata": {},
   "source": [
    "## Average monthly sessions per user\n"
   ]
  },
  {
   "cell_type": "code",
   "execution_count": null,
   "id": "53251d88-f9fa-4967-9f2d-df491f4c84d3",
   "metadata": {},
   "outputs": [],
   "source": [
    "# use the earlier created users & sessions and calculate average\n",
    "monthly_sessions_user = monthly_sessions / monthly_users\n",
    "monthly_sessions_user.sort_index(ascending=False).head()"
   ]
  },
  {
   "cell_type": "code",
   "execution_count": null,
   "id": "3db3f20c-eb9a-4639-a557-9f7373d329a1",
   "metadata": {},
   "outputs": [],
   "source": [
    "# get the SQL\n",
    "display_sql_as_markdown(monthly_sessions_user)"
   ]
  },
  {
   "cell_type": "markdown",
   "id": "8bdba051-6e29-4e33-a07b-8d318bdf6a14",
   "metadata": {},
   "source": [
    "## Sessions per hour of the day"
   ]
  },
  {
   "cell_type": "code",
   "execution_count": null,
   "id": "701fba0d-835b-46fb-9504-85c645d68796",
   "metadata": {},
   "outputs": [],
   "source": [
    "# model hub: unique sessions, hourly\n",
    "hourly_sessions = modelhub.aggregate.unique_sessions(df, groupby=modelhub.time_agg(df, 'YYYY-MM-DD-HH'))\n",
    "hourly_sessions.sort_index(ascending=False).head()"
   ]
  },
  {
   "cell_type": "code",
   "execution_count": null,
   "id": "6ecc8331-1702-4ec4-80a1-4a9b9342a4a7",
   "metadata": {},
   "outputs": [],
   "source": [
    "# get the SQL\n",
    "display_sql_as_markdown(hourly_sessions)"
   ]
  },
  {
   "cell_type": "markdown",
   "id": "3bb3a162-1147-4848-80bb-5ec049861799",
   "metadata": {},
   "source": [
    "## Average session duration"
   ]
  },
  {
   "cell_type": "code",
   "execution_count": null,
   "id": "5f520945-99a9-47a9-bacf-2fb346bd15cb",
   "metadata": {},
   "outputs": [],
   "source": [
    "# model hub: average duration, daily\n",
    "duration_daily = modelhub.aggregate.session_duration(df)\n",
    "duration_daily.sort_index(ascending=False).head()"
   ]
  },
  {
   "cell_type": "code",
   "execution_count": null,
   "id": "0688b6c7-967b-45b0-8bba-53e9a3560ff4",
   "metadata": {},
   "outputs": [],
   "source": [
    "# get the SQL\n",
    "display_sql_as_markdown(duration_daily)"
   ]
  },
  {
   "cell_type": "markdown",
   "id": "34a3d3e0-029b-43e9-a082-3fe64a9ae4f4",
   "metadata": {},
   "source": [
    "## Users per feature"
   ]
  },
  {
   "cell_type": "code",
   "execution_count": null,
   "id": "5ebda57f-f704-4f9f-a934-b5b59ed6d6f4",
   "metadata": {},
   "outputs": [],
   "source": [
    "# select only user actions, so stack_event_types must be a superset of ['InteractiveEvent']\n",
    "interactive_events = df[df.stack_event_types>=['InteractiveEvent']]\n",
    "\n",
    "# users by feature\n",
    "users_feature = interactive_events.groupby(['application', 'feature_nice_name', 'event_type']).agg({'user_id':'nunique'})\n",
    "users_feature.sort_values('user_id_nunique', ascending=False).head()"
   ]
  },
  {
   "cell_type": "code",
   "execution_count": null,
   "id": "125c921a-ae8c-42c3-8c7a-7b6e33142967",
   "metadata": {},
   "outputs": [],
   "source": [
    "# get the SQL\n",
    "display_sql_as_markdown(users_feature)"
   ]
  },
  {
   "cell_type": "markdown",
   "id": "30d719b7-7949-4339-ace3-61137346343e",
   "metadata": {
    "tags": []
   },
   "source": [
    "## Users per root location"
   ]
  },
  {
   "cell_type": "code",
   "execution_count": null,
   "id": "b172913a-df53-4a48-a258-32b6b72dcc74",
   "metadata": {},
   "outputs": [],
   "source": [
    "# users by root_location\n",
    "users_root_location = interactive_events.groupby(['application', 'root_location', 'event_type']).agg({'user_id':'nunique'})\n",
    "users_root_location.sort_values('user_id_nunique', ascending=False).head()"
   ]
  },
  {
   "cell_type": "code",
   "execution_count": null,
   "id": "1b6b1ed9-c69c-4ee1-8eb0-9b4f48fc10e9",
   "metadata": {},
   "outputs": [],
   "source": [
    "# get the SQL\n",
    "display_sql_as_markdown(users_root_location)"
   ]
  },
  {
   "cell_type": "markdown",
   "id": "e4e3ad38-5471-454c-b374-aec6ca5bb6fd",
   "metadata": {
    "tags": []
   },
   "source": [
    "## First session features"
   ]
  },
  {
   "cell_type": "code",
   "execution_count": null,
   "id": "f1bda0b9-bfad-4466-a887-a5b069d9d3bc",
   "metadata": {},
   "outputs": [],
   "source": [
    "# first, add a column labeling a session as first session to the earlier created interactive_events\n",
    "interactive_events['is_first_session'] = modelhub.map.is_first_session(interactive_events)\n",
    "\n",
    "# then, select the features used in this first session\n",
    "users_first_session_feature = interactive_events[interactive_events.is_first_session == True].groupby(['application', 'feature_nice_name', 'event_type']).agg({'user_id':'nunique'})\n",
    "users_first_session_feature.sort_values('user_id_nunique', ascending=False).head()"
   ]
  },
  {
   "cell_type": "code",
   "execution_count": null,
   "id": "287976f1-cd65-400f-b2e0-41f36cda6d8f",
   "metadata": {},
   "outputs": [],
   "source": [
    "# get the SQL\n",
    "display_sql_as_markdown(users_first_session_feature)"
   ]
  },
  {
   "cell_type": "markdown",
   "id": "282810d3-7f1c-4b80-a82c-922239925d8d",
   "metadata": {},
   "source": [
    "## First session duration"
   ]
  },
  {
   "cell_type": "code",
   "execution_count": null,
   "id": "129ae897-e2c8-4af3-9612-40812a60810a",
   "metadata": {},
   "outputs": [],
   "source": [
    "# add first session to the data, also non-interactive events, to define the first session duration\n",
    "df['is_first_session'] = modelhub.map.is_first_session(df)\n",
    "\n",
    "# then, use the model hub to calculate average session duration\n",
    "first_session_duration = modelhub.aggregate.session_duration(df[df.is_first_session == True])\n",
    "first_session_duration.sort_index(ascending=False).head()"
   ]
  },
  {
   "cell_type": "code",
   "execution_count": null,
   "id": "86a8e199-0a50-4af7-ad7e-e7785770f3a9",
   "metadata": {},
   "outputs": [],
   "source": [
    "# get the SQL\n",
    "display_sql_as_markdown(first_session_duration)"
   ]
  }
 ],
 "metadata": {
  "kernelspec": {
   "display_name": "Python 3 (ipykernel)",
   "language": "python",
   "name": "python3"
  },
  "language_info": {
   "codemirror_mode": {
    "name": "ipython",
    "version": 3
   },
   "file_extension": ".py",
   "mimetype": "text/x-python",
   "name": "python",
   "nbconvert_exporter": "python",
   "pygments_lexer": "ipython3",
   "version": "3.9.10"
  }
 },
 "nbformat": 4,
 "nbformat_minor": 5
}
