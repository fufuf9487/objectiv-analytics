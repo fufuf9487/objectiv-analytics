{
 "cells": [
  {
   "cell_type": "code",
   "execution_count": 1,
   "id": "4bd369f6",
   "metadata": {},
   "outputs": [],
   "source": [
    "from datetime import datetime\n",
    "from modelhub import ModelHub\n",
    "from bach import display_sql_as_markdown"
   ]
  },
  {
   "cell_type": "code",
   "execution_count": 2,
   "id": "3756a344-8072-4d6d-9c86-ea6bb8428ff8",
   "metadata": {},
   "outputs": [],
   "source": [
    "modelhub = ModelHub(time_aggregation='%Y-%m-%d')"
   ]
  },
  {
   "cell_type": "code",
   "execution_count": 3,
   "id": "da4ec1a0",
   "metadata": {},
   "outputs": [],
   "source": [
    "df = modelhub.get_objectiv_dataframe(start_date='2022-02-02')\n",
    "df['feature_nice_name'] = df.location_stack.ls.nice_name"
   ]
  },
  {
   "cell_type": "code",
   "execution_count": 4,
   "id": "fa9f4043",
   "metadata": {},
   "outputs": [
    {
     "data": {
      "text/html": [
       "<div>\n",
       "<style scoped>\n",
       "    .dataframe tbody tr th:only-of-type {\n",
       "        vertical-align: middle;\n",
       "    }\n",
       "\n",
       "    .dataframe tbody tr th {\n",
       "        vertical-align: top;\n",
       "    }\n",
       "\n",
       "    .dataframe thead th {\n",
       "        text-align: right;\n",
       "    }\n",
       "</style>\n",
       "<table border=\"1\" class=\"dataframe\">\n",
       "  <thead>\n",
       "    <tr style=\"text-align: right;\">\n",
       "      <th></th>\n",
       "      <th>session_id</th>\n",
       "      <th>steps</th>\n",
       "    </tr>\n",
       "    <tr>\n",
       "      <th>event_id</th>\n",
       "      <th></th>\n",
       "      <th></th>\n",
       "    </tr>\n",
       "  </thead>\n",
       "  <tbody>\n",
       "    <tr>\n",
       "      <th>266f2183-b1c8-4445-ac09-1c681542ba6e</th>\n",
       "      <td>1</td>\n",
       "      <td>[Root Location: home, Media Player: 2-minute-v...</td>\n",
       "    </tr>\n",
       "    <tr>\n",
       "      <th>b9ab19f4-4ade-490e-9254-3ff35fe0cb42</th>\n",
       "      <td>2</td>\n",
       "      <td>[Root Location: about, Root Location: home]</td>\n",
       "    </tr>\n",
       "    <tr>\n",
       "      <th>dd6a9094-17fd-43d2-bb1d-4b62a6beec5d</th>\n",
       "      <td>3</td>\n",
       "      <td>[Root Location: home, Media Player: 2-minute-v...</td>\n",
       "    </tr>\n",
       "    <tr>\n",
       "      <th>027d6324-6e36-4ce1-8f40-1d5b6db5d4f4</th>\n",
       "      <td>4</td>\n",
       "      <td>[Expandable: The Project located at Root Locat...</td>\n",
       "    </tr>\n",
       "    <tr>\n",
       "      <th>0d2341dc-1ce2-485a-912a-3551b2b48aff</th>\n",
       "      <td>5</td>\n",
       "      <td>[Root Location: home, Media Player: 2-minute-v...</td>\n",
       "    </tr>\n",
       "    <tr>\n",
       "      <th>...</th>\n",
       "      <td>...</td>\n",
       "      <td>...</td>\n",
       "    </tr>\n",
       "    <tr>\n",
       "      <th>03104dbd-07ad-4517-b979-a40c5d845ce6</th>\n",
       "      <td>5349</td>\n",
       "      <td>[Root Location: home, Media Player: 2-minute-v...</td>\n",
       "    </tr>\n",
       "    <tr>\n",
       "      <th>132d1ba7-99b1-4b4c-b961-a9603fdf20ff</th>\n",
       "      <td>5350</td>\n",
       "      <td>[Link: tracking located at Root Location: trac...</td>\n",
       "    </tr>\n",
       "    <tr>\n",
       "      <th>b03d0d36-12a4-427d-afa2-5ac52b285adb</th>\n",
       "      <td>5351</td>\n",
       "      <td>[Link: star-us located at Root Location: home ...</td>\n",
       "    </tr>\n",
       "    <tr>\n",
       "      <th>0022c592-5823-4a38-ad2a-aea75b997159</th>\n",
       "      <td>5352</td>\n",
       "      <td>[Root Location: home, Expandable: the-project ...</td>\n",
       "    </tr>\n",
       "    <tr>\n",
       "      <th>0ff0f7f7-ed45-46c9-bb3c-720402bc56cd</th>\n",
       "      <td>5353</td>\n",
       "      <td>[Root Location: home, Media Player: 2-minute-v...</td>\n",
       "    </tr>\n",
       "  </tbody>\n",
       "</table>\n",
       "<p>5353 rows × 2 columns</p>\n",
       "</div>"
      ],
      "text/plain": [
       "                                      session_id  \\\n",
       "event_id                                           \n",
       "266f2183-b1c8-4445-ac09-1c681542ba6e           1   \n",
       "b9ab19f4-4ade-490e-9254-3ff35fe0cb42           2   \n",
       "dd6a9094-17fd-43d2-bb1d-4b62a6beec5d           3   \n",
       "027d6324-6e36-4ce1-8f40-1d5b6db5d4f4           4   \n",
       "0d2341dc-1ce2-485a-912a-3551b2b48aff           5   \n",
       "...                                          ...   \n",
       "03104dbd-07ad-4517-b979-a40c5d845ce6        5349   \n",
       "132d1ba7-99b1-4b4c-b961-a9603fdf20ff        5350   \n",
       "b03d0d36-12a4-427d-afa2-5ac52b285adb        5351   \n",
       "0022c592-5823-4a38-ad2a-aea75b997159        5352   \n",
       "0ff0f7f7-ed45-46c9-bb3c-720402bc56cd        5353   \n",
       "\n",
       "                                                                                  steps  \n",
       "event_id                                                                                 \n",
       "266f2183-b1c8-4445-ac09-1c681542ba6e  [Root Location: home, Media Player: 2-minute-v...  \n",
       "b9ab19f4-4ade-490e-9254-3ff35fe0cb42        [Root Location: about, Root Location: home]  \n",
       "dd6a9094-17fd-43d2-bb1d-4b62a6beec5d  [Root Location: home, Media Player: 2-minute-v...  \n",
       "027d6324-6e36-4ce1-8f40-1d5b6db5d4f4  [Expandable: The Project located at Root Locat...  \n",
       "0d2341dc-1ce2-485a-912a-3551b2b48aff  [Root Location: home, Media Player: 2-minute-v...  \n",
       "...                                                                                 ...  \n",
       "03104dbd-07ad-4517-b979-a40c5d845ce6  [Root Location: home, Media Player: 2-minute-v...  \n",
       "132d1ba7-99b1-4b4c-b961-a9603fdf20ff  [Link: tracking located at Root Location: trac...  \n",
       "b03d0d36-12a4-427d-afa2-5ac52b285adb  [Link: star-us located at Root Location: home ...  \n",
       "0022c592-5823-4a38-ad2a-aea75b997159  [Root Location: home, Expandable: the-project ...  \n",
       "0ff0f7f7-ed45-46c9-bb3c-720402bc56cd  [Root Location: home, Media Player: 2-minute-v...  \n",
       "\n",
       "[5353 rows x 2 columns]"
      ]
     },
     "execution_count": 4,
     "metadata": {},
     "output_type": "execute_result"
    }
   ],
   "source": [
    "# construct steps column which is a list of strings \n",
    "df_steps = df.groupby('session_id')['feature_nice_name'].to_json_array().reset_index()\n",
    "df_steps = df_steps.rename(columns={'feature_nice_name': 'steps'})\n",
    "df_steps = df.merge(df_steps, on='session_id')[['session_id', 'steps']].drop_duplicates()\n",
    "df_steps.to_pandas()"
   ]
  },
  {
   "cell_type": "code",
   "execution_count": null,
   "id": "b4496aeb",
   "metadata": {},
   "outputs": [],
   "source": []
  },
  {
   "cell_type": "markdown",
   "id": "c0d1d235",
   "metadata": {},
   "source": [
    "## My custom lambda func"
   ]
  },
  {
   "cell_type": "code",
   "execution_count": 5,
   "id": "e59a4154",
   "metadata": {},
   "outputs": [
    {
     "data": {
      "text/plain": [
       "[['a', 'b', 'c'], ['b', 'c', 'd'], ['c', 'd', 'e'], ['d', 'e', 'f']]"
      ]
     },
     "execution_count": 5,
     "metadata": {},
     "output_type": "execute_result"
    }
   ],
   "source": [
    "func_ngram = lambda data, n: [data[i: i + n] for i in range(len(data) - n + 1)]\n",
    "\n",
    "func_ngram(['a', 'b', 'c', 'd', 'e', 'f'], 3)"
   ]
  },
  {
   "cell_type": "markdown",
   "id": "42674d7d",
   "metadata": {},
   "source": [
    "### For each row of `df_steps.steps` want to apply `func_ngram` func"
   ]
  },
  {
   "cell_type": "code",
   "execution_count": 6,
   "id": "0c7ec003",
   "metadata": {},
   "outputs": [],
   "source": [
    "df_steps_pandas = df_steps.to_pandas()\n",
    "n_gram = 3 # this value will provide the user\n",
    "\n",
    "df_steps_pandas['desired_col'] = df_steps_pandas['steps'].apply(lambda x: func_ngram(x, n_gram))"
   ]
  },
  {
   "cell_type": "code",
   "execution_count": 7,
   "id": "e4a2f0ce",
   "metadata": {},
   "outputs": [
    {
     "data": {
      "text/plain": [
       "['Root Location: home',\n",
       " 'Media Player: 2-minute-video located at Root Location: home',\n",
       " 'Root Location: home',\n",
       " 'Media Player: 2-minute-video located at Root Location: home',\n",
       " 'Root Location: home',\n",
       " 'Media Player: 2-minute-video located at Root Location: home',\n",
       " 'Link: docs located at Root Location: home => Navigation: navbar-top',\n",
       " 'Expandable: The Project located at Root Location: docs => Navigation: docs-sidebar',\n",
       " 'Root Location: docs']"
      ]
     },
     "execution_count": 7,
     "metadata": {},
     "output_type": "execute_result"
    }
   ],
   "source": [
    "df_steps_pandas['steps'].iloc[0]"
   ]
  },
  {
   "cell_type": "code",
   "execution_count": 8,
   "id": "3fe0332d",
   "metadata": {},
   "outputs": [
    {
     "data": {
      "text/plain": [
       "[['Root Location: home',\n",
       "  'Media Player: 2-minute-video located at Root Location: home',\n",
       "  'Root Location: home'],\n",
       " ['Media Player: 2-minute-video located at Root Location: home',\n",
       "  'Root Location: home',\n",
       "  'Media Player: 2-minute-video located at Root Location: home'],\n",
       " ['Root Location: home',\n",
       "  'Media Player: 2-minute-video located at Root Location: home',\n",
       "  'Root Location: home'],\n",
       " ['Media Player: 2-minute-video located at Root Location: home',\n",
       "  'Root Location: home',\n",
       "  'Media Player: 2-minute-video located at Root Location: home'],\n",
       " ['Root Location: home',\n",
       "  'Media Player: 2-minute-video located at Root Location: home',\n",
       "  'Link: docs located at Root Location: home => Navigation: navbar-top'],\n",
       " ['Media Player: 2-minute-video located at Root Location: home',\n",
       "  'Link: docs located at Root Location: home => Navigation: navbar-top',\n",
       "  'Expandable: The Project located at Root Location: docs => Navigation: docs-sidebar'],\n",
       " ['Link: docs located at Root Location: home => Navigation: navbar-top',\n",
       "  'Expandable: The Project located at Root Location: docs => Navigation: docs-sidebar',\n",
       "  'Root Location: docs']]"
      ]
     },
     "execution_count": 8,
     "metadata": {},
     "output_type": "execute_result"
    }
   ],
   "source": [
    "df_steps_pandas['desired_col'].iloc[0]"
   ]
  },
  {
   "cell_type": "code",
   "execution_count": null,
   "id": "c32dd2b4",
   "metadata": {},
   "outputs": [],
   "source": []
  }
 ],
 "metadata": {
  "kernelspec": {
   "display_name": "Python 3 (ipykernel)",
   "language": "python",
   "name": "python3"
  },
  "language_info": {
   "codemirror_mode": {
    "name": "ipython",
    "version": 3
   },
   "file_extension": ".py",
   "mimetype": "text/x-python",
   "name": "python",
   "nbconvert_exporter": "python",
   "pygments_lexer": "ipython3",
   "version": "3.10.4"
  }
 },
 "nbformat": 4,
 "nbformat_minor": 5
}
