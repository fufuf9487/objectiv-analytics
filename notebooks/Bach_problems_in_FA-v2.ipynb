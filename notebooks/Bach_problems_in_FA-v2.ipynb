{
 "cells": [
  {
   "cell_type": "code",
   "execution_count": 1,
   "id": "4bd369f6",
   "metadata": {
    "pycharm": {
     "name": "#%%\n"
    }
   },
   "outputs": [],
   "source": [
    "from datetime import datetime\n",
    "from modelhub import ModelHub\n",
    "from bach import display_sql_as_markdown"
   ]
  },
  {
   "cell_type": "code",
   "execution_count": 2,
   "id": "3756a344-8072-4d6d-9c86-ea6bb8428ff8",
   "metadata": {
    "pycharm": {
     "name": "#%%\n"
    }
   },
   "outputs": [],
   "source": [
    "modelhub = ModelHub(time_aggregation='%Y-%m-%d')"
   ]
  },
  {
   "cell_type": "code",
   "execution_count": 3,
   "id": "da4ec1a0",
   "metadata": {
    "pycharm": {
     "name": "#%%\n"
    }
   },
   "outputs": [],
   "source": [
    "df = modelhub.get_objectiv_dataframe(start_date='2022-02-02')\n",
    "df['feature_nice_name'] = df.location_stack.ls.nice_name"
   ]
  },
  {
   "cell_type": "code",
   "execution_count": 4,
   "id": "fa9f4043",
   "metadata": {
    "pycharm": {
     "name": "#%%\n"
    }
   },
   "outputs": [
    {
     "data": {
      "text/html": [
       "<div>\n",
       "<style scoped>\n",
       "    .dataframe tbody tr th:only-of-type {\n",
       "        vertical-align: middle;\n",
       "    }\n",
       "\n",
       "    .dataframe tbody tr th {\n",
       "        vertical-align: top;\n",
       "    }\n",
       "\n",
       "    .dataframe thead th {\n",
       "        text-align: right;\n",
       "    }\n",
       "</style>\n",
       "<table border=\"1\" class=\"dataframe\">\n",
       "  <thead>\n",
       "    <tr style=\"text-align: right;\">\n",
       "      <th></th>\n",
       "      <th>session_id</th>\n",
       "      <th>steps</th>\n",
       "    </tr>\n",
       "    <tr>\n",
       "      <th>event_id</th>\n",
       "      <th></th>\n",
       "      <th></th>\n",
       "    </tr>\n",
       "  </thead>\n",
       "  <tbody>\n",
       "    <tr>\n",
       "      <th>6307e080-d6a4-4e7d-b47f-a029b90cf6e1</th>\n",
       "      <td>97</td>\n",
       "      <td>[Root Location: blog, Media Player: objectiv-i...</td>\n",
       "    </tr>\n",
       "    <tr>\n",
       "      <th>03bfb487-a6ae-4175-bf3a-db127a75a85f</th>\n",
       "      <td>1651</td>\n",
       "      <td>[Root Location: home, Media Player: 2-minute-v...</td>\n",
       "    </tr>\n",
       "    <tr>\n",
       "      <th>21629b85-c17a-458b-a5ab-ff4c074a963c</th>\n",
       "      <td>2872</td>\n",
       "      <td>[Root Location: home, Media Player: 2-minute-v...</td>\n",
       "    </tr>\n",
       "    <tr>\n",
       "      <th>0f3b8b89-e4ff-4256-9beb-c3f252216699</th>\n",
       "      <td>2116</td>\n",
       "      <td>[Content: post-meet-objectiv-open-source-produ...</td>\n",
       "    </tr>\n",
       "    <tr>\n",
       "      <th>02ad3934-665c-47e9-8d76-c2a7a79f2c60</th>\n",
       "      <td>3600</td>\n",
       "      <td>[Pressable: hamburger located at Root Location...</td>\n",
       "    </tr>\n",
       "    <tr>\n",
       "      <th>...</th>\n",
       "      <td>...</td>\n",
       "      <td>...</td>\n",
       "    </tr>\n",
       "    <tr>\n",
       "      <th>0f0fc271-a3ca-4952-bed7-90ca7656dbb1</th>\n",
       "      <td>3836</td>\n",
       "      <td>[Pressable: after located at Root Location: ho...</td>\n",
       "    </tr>\n",
       "    <tr>\n",
       "      <th>1ba7c155-0521-431d-8f5d-564aa3e8daa6</th>\n",
       "      <td>3852</td>\n",
       "      <td>[Root Location: home, Link: docs located at Ro...</td>\n",
       "    </tr>\n",
       "    <tr>\n",
       "      <th>0d74fe99-d796-423b-bccb-f7c64a155aa6</th>\n",
       "      <td>3720</td>\n",
       "      <td>[Expandable: Reference located at Root Locatio...</td>\n",
       "    </tr>\n",
       "    <tr>\n",
       "      <th>044ec938-81c0-496a-9a11-f35412f81614</th>\n",
       "      <td>3975</td>\n",
       "      <td>[Root Location: home, Link: docs located at Ro...</td>\n",
       "    </tr>\n",
       "    <tr>\n",
       "      <th>110f27ac-183f-44d6-8800-ad8655825699</th>\n",
       "      <td>3957</td>\n",
       "      <td>[Expandable: Reference located at Root Locatio...</td>\n",
       "    </tr>\n",
       "  </tbody>\n",
       "</table>\n",
       "<p>4027 rows × 2 columns</p>\n",
       "</div>"
      ],
      "text/plain": [
       "                                      session_id  \\\n",
       "event_id                                           \n",
       "6307e080-d6a4-4e7d-b47f-a029b90cf6e1          97   \n",
       "03bfb487-a6ae-4175-bf3a-db127a75a85f        1651   \n",
       "21629b85-c17a-458b-a5ab-ff4c074a963c        2872   \n",
       "0f3b8b89-e4ff-4256-9beb-c3f252216699        2116   \n",
       "02ad3934-665c-47e9-8d76-c2a7a79f2c60        3600   \n",
       "...                                          ...   \n",
       "0f0fc271-a3ca-4952-bed7-90ca7656dbb1        3836   \n",
       "1ba7c155-0521-431d-8f5d-564aa3e8daa6        3852   \n",
       "0d74fe99-d796-423b-bccb-f7c64a155aa6        3720   \n",
       "044ec938-81c0-496a-9a11-f35412f81614        3975   \n",
       "110f27ac-183f-44d6-8800-ad8655825699        3957   \n",
       "\n",
       "                                                                                  steps  \n",
       "event_id                                                                                 \n",
       "6307e080-d6a4-4e7d-b47f-a029b90cf6e1  [Root Location: blog, Media Player: objectiv-i...  \n",
       "03bfb487-a6ae-4175-bf3a-db127a75a85f  [Root Location: home, Media Player: 2-minute-v...  \n",
       "21629b85-c17a-458b-a5ab-ff4c074a963c  [Root Location: home, Media Player: 2-minute-v...  \n",
       "0f3b8b89-e4ff-4256-9beb-c3f252216699  [Content: post-meet-objectiv-open-source-produ...  \n",
       "02ad3934-665c-47e9-8d76-c2a7a79f2c60  [Pressable: hamburger located at Root Location...  \n",
       "...                                                                                 ...  \n",
       "0f0fc271-a3ca-4952-bed7-90ca7656dbb1  [Pressable: after located at Root Location: ho...  \n",
       "1ba7c155-0521-431d-8f5d-564aa3e8daa6  [Root Location: home, Link: docs located at Ro...  \n",
       "0d74fe99-d796-423b-bccb-f7c64a155aa6  [Expandable: Reference located at Root Locatio...  \n",
       "044ec938-81c0-496a-9a11-f35412f81614  [Root Location: home, Link: docs located at Ro...  \n",
       "110f27ac-183f-44d6-8800-ad8655825699  [Expandable: Reference located at Root Locatio...  \n",
       "\n",
       "[4027 rows x 2 columns]"
      ]
     },
     "execution_count": 4,
     "metadata": {},
     "output_type": "execute_result"
    }
   ],
   "source": [
    "# construct steps column which is a list of strings \n",
    "df_steps = df.groupby('session_id')['feature_nice_name'].to_json_array().reset_index()\n",
    "df_steps = df_steps.rename(columns={'feature_nice_name': 'steps'})\n",
    "df_steps = df.merge(df_steps, on='session_id')[['session_id', 'steps']].drop_duplicates()\n",
    "df_steps.to_pandas()"
   ]
  },
  {
   "cell_type": "code",
   "execution_count": null,
   "id": "b4496aeb",
   "metadata": {
    "pycharm": {
     "name": "#%%\n"
    }
   },
   "outputs": [],
   "source": []
  },
  {
   "cell_type": "markdown",
   "id": "c0d1d235",
   "metadata": {
    "pycharm": {
     "name": "#%% md\n"
    }
   },
   "source": [
    "## My custom lambda func"
   ]
  },
  {
   "cell_type": "code",
   "execution_count": 5,
   "id": "e59a4154",
   "metadata": {
    "pycharm": {
     "name": "#%%\n"
    }
   },
   "outputs": [
    {
     "data": {
      "text/plain": [
       "[['a', 'b', 'c'], ['b', 'c', 'd'], ['c', 'd', 'e'], ['d', 'e', 'f']]"
      ]
     },
     "execution_count": 5,
     "metadata": {},
     "output_type": "execute_result"
    }
   ],
   "source": [
    "func_ngram = lambda data, n: [data[i: i + n] for i in range(len(data) - n + 1)]\n",
    "\n",
    "func_ngram(['a', 'b', 'c', 'd', 'e', 'f'], 3)"
   ]
  },
  {
   "cell_type": "code",
   "execution_count": 6,
   "id": "fc218aec",
   "metadata": {},
   "outputs": [
    {
     "data": {
      "text/plain": [
       "4"
      ]
     },
     "execution_count": 6,
     "metadata": {},
     "output_type": "execute_result"
    }
   ],
   "source": [
    "x = ['a', 'b', 'c', 'd', 'e', 'f']\n",
    "len(x) - 3 + 1"
   ]
  },
  {
   "cell_type": "code",
   "execution_count": 7,
   "id": "506d303f",
   "metadata": {},
   "outputs": [
    {
     "data": {
      "text/plain": [
       "['a', 'b', 'c', 'd']"
      ]
     },
     "execution_count": 7,
     "metadata": {},
     "output_type": "execute_result"
    }
   ],
   "source": [
    "x[:4]"
   ]
  },
  {
   "cell_type": "markdown",
   "id": "42674d7d",
   "metadata": {
    "pycharm": {
     "name": "#%% md\n"
    }
   },
   "source": [
    "### For each row of `df_steps.steps` want to apply `func_ngram` func"
   ]
  },
  {
   "cell_type": "code",
   "execution_count": 8,
   "id": "0c7ec003",
   "metadata": {
    "pycharm": {
     "name": "#%%\n"
    }
   },
   "outputs": [],
   "source": [
    "df_steps_pandas = df_steps.to_pandas()\n",
    "n_gram = 3 # this value will provide the user\n",
    "\n",
    "df_steps_pandas['desired_col'] = df_steps_pandas['steps'].apply(lambda x: func_ngram(x, n_gram))"
   ]
  },
  {
   "cell_type": "code",
   "execution_count": 9,
   "id": "e4a2f0ce",
   "metadata": {
    "pycharm": {
     "name": "#%%\n"
    }
   },
   "outputs": [
    {
     "data": {
      "text/plain": [
       "['Root Location: blog',\n",
       " 'Media Player: objectiv-in-2-minutes located at Root Location: blog => Content: post-meet-objectiv-open-source-product-analytics-designed-for-data-sc']"
      ]
     },
     "execution_count": 9,
     "metadata": {},
     "output_type": "execute_result"
    }
   ],
   "source": [
    "df_steps_pandas['steps'].iloc[0]"
   ]
  },
  {
   "cell_type": "code",
   "execution_count": 10,
   "id": "3fe0332d",
   "metadata": {
    "pycharm": {
     "name": "#%%\n"
    }
   },
   "outputs": [
    {
     "data": {
      "text/plain": [
       "[]"
      ]
     },
     "execution_count": 10,
     "metadata": {},
     "output_type": "execute_result"
    }
   ],
   "source": [
    "df_steps_pandas['desired_col'].iloc[0]"
   ]
  },
  {
   "cell_type": "code",
   "execution_count": 11,
   "id": "c32dd2b4",
   "metadata": {
    "pycharm": {
     "name": "#%%\n"
    }
   },
   "outputs": [
    {
     "data": {
      "text/plain": [
       "event_id\n",
       "6307e080-d6a4-4e7d-b47f-a029b90cf6e1                                                   []\n",
       "03bfb487-a6ae-4175-bf3a-db127a75a85f    [[Root Location: home, Media Player: 2-minute-...\n",
       "21629b85-c17a-458b-a5ab-ff4c074a963c    [[Root Location: home, Media Player: 2-minute-...\n",
       "0f3b8b89-e4ff-4256-9beb-c3f252216699    [[Content: post-meet-objectiv-open-source-prod...\n",
       "02ad3934-665c-47e9-8d76-c2a7a79f2c60    [[Pressable: hamburger located at Root Locatio...\n",
       "                                                              ...                        \n",
       "0f0fc271-a3ca-4952-bed7-90ca7656dbb1    [[Pressable: after located at Root Location: h...\n",
       "1ba7c155-0521-431d-8f5d-564aa3e8daa6    [[Root Location: home, Link: docs located at R...\n",
       "0d74fe99-d796-423b-bccb-f7c64a155aa6    [[Expandable: Reference located at Root Locati...\n",
       "044ec938-81c0-496a-9a11-f35412f81614    [[Root Location: home, Link: docs located at R...\n",
       "110f27ac-183f-44d6-8800-ad8655825699    [[Expandable: Reference located at Root Locati...\n",
       "Name: steps, Length: 4027, dtype: object"
      ]
     },
     "execution_count": 11,
     "metadata": {},
     "output_type": "execute_result"
    }
   ],
   "source": [
    "df_steps_pandas['steps'].apply(lambda x: func_ngram(x, n_gram))"
   ]
  },
  {
   "cell_type": "code",
   "execution_count": 12,
   "id": "953de19c",
   "metadata": {},
   "outputs": [],
   "source": [
    "import bach\n",
    "from sql_models.util import is_postgres, is_bigquery, DatabaseNotSupportedException\n",
    "from abc import abstractmethod\n",
    "\n",
    "\n",
    "class ListShifterOperation:\n",
    "    FIRST_ELEMENT_SUBLIST_OFFSET = '__first_sublist_offset'\n",
    "    GENERATED_OFFSET_SUBLIST = '__sublist_item_offset'\n",
    "\n",
    "    def __init__(self, list_series: bach.SeriesJson, shifting_n: int) -> None:\n",
    "        self._list_series = list_series\n",
    "        self._shifting_n = shifting_n\n",
    "\n",
    "    def r_shift(self) -> bach.SeriesJson:\n",
    "        \"\"\"\n",
    "        Steps for generating shifted sublists:\n",
    "            1. Cast list_series expression to array (JSON_QUERY_ARRAY)\n",
    "            2. Generate index of items per sublist\n",
    "            3. Iterate over generated indexes and extract items from original array\n",
    "            4. Generate expression for unnesting original array and creating array\n",
    "                with final sub-lists\n",
    "        \"\"\"\n",
    "        # step 1. cast list string to correct db type\n",
    "        arr_parsed_list_series = self._get_array_parsed_list_series()\n",
    "\n",
    "        # step 2.\n",
    "        # Example: n = 6 and current item_pos = 2. Expression will generate:\n",
    "        # [2, 3, 4, 5]\n",
    "        generated_offsets_expr = self._get_generated_sublist_offset_expr()\n",
    "\n",
    "        # step 3.\n",
    "        extracted_sub_list_expr = self._get_extract_items_sublist_expr(\n",
    "            arr_parsed_list_series, generated_offsets_expr,\n",
    "        )\n",
    "\n",
    "        # step 4.\n",
    "        r_shifted_lists = self._get_rshifted_sublists_series(\n",
    "            extracted_sub_list_expr,\n",
    "            arr_parsed_list_series,\n",
    "        )\n",
    "\n",
    "        return r_shifted_lists\n",
    "\n",
    "    @abstractmethod\n",
    "    def _get_array_parsed_list_series(self) -> bach.SeriesJson:\n",
    "        raise NotImplemented()\n",
    "\n",
    "    @abstractmethod\n",
    "    def _get_generated_sublist_offset_expr(self) -> bach.expression.Expression:\n",
    "        raise NotImplemented()\n",
    "\n",
    "    @abstractmethod\n",
    "    def _get_extract_items_sublist_expr(\n",
    "        self,\n",
    "        array_parsed_series: bach.SeriesJson,\n",
    "        generated_offsets_expr: bach.expression.Expression,\n",
    "    ) -> bach.expression.Expression:\n",
    "        raise NotImplemented()\n",
    "\n",
    "    @abstractmethod\n",
    "    def _get_rshifted_sublists_series(\n",
    "        self,\n",
    "        extracted_sub_list_expr: bach.expression.Expression,\n",
    "        arr_parsed_list_series: bach.SeriesJson,\n",
    "    ) -> bach.SeriesJson:\n",
    "        raise NotImplemented()\n",
    "\n",
    "\n",
    "class PostgresListShifterOperation(ListShifterOperation):\n",
    "\n",
    "    def _get_array_parsed_list_series(self) -> bach.SeriesJson:\n",
    "        return self._list_series.copy_override(\n",
    "            expression=bach.expression.Expression.construct(\n",
    "                'jsonb_array_elements({} :: jsonb)',\n",
    "                self._list_series\n",
    "            ),\n",
    "        )\n",
    "\n",
    "    def _get_generated_sublist_offset_expr(self) -> bach.expression.Expression:\n",
    "        start_stmt = f'{self.FIRST_ELEMENT_SUBLIST_OFFSET} - 1'\n",
    "        end_stmt = f'{self.FIRST_ELEMENT_SUBLIST_OFFSET} + {self._shifting_n - 2}'\n",
    "\n",
    "        return bach.expression.Expression.raw(f'GENERATE_SERIES({start_stmt}, {end_stmt})')\n",
    "\n",
    "    def _get_extract_items_sublist_expr(\n",
    "        self,\n",
    "        array_parsed_series: bach.SeriesJson,\n",
    "        generated_offsets_expr: bach.expression.Expression,\n",
    "    ) -> bach.expression.Expression:\n",
    "        return bach.expression.Expression.construct(\n",
    "            f\"\"\"\n",
    "            SELECT {{}} -> cast({self.GENERATED_OFFSET_SUBLIST} as int)\n",
    "            FROM {{}} as {self.GENERATED_OFFSET_SUBLIST}\n",
    "            \"\"\",\n",
    "            array_parsed_series,\n",
    "            generated_offsets_expr\n",
    "        )\n",
    "\n",
    "    def _get_rshifted_sublists_series(\n",
    "            self,\n",
    "            extracted_sub_list_expr: bach.expression.Expression,\n",
    "            arr_parsed_list_series: bach.SeriesJson,\n",
    "    ) -> bach.SeriesJson:\n",
    "        _ARRAY_TO_STR_STMT = \"ARRAY(({}))\"\n",
    "        sub_array_list_series = self._list_series.copy_override(\n",
    "            expression=bach.expression.Expression.construct(\n",
    "                (\n",
    "                    f'SELECT {_ARRAY_TO_STR_STMT} FROM {{}} '\n",
    "                    f'WITH ORDINALITY rshift(elem, {self.FIRST_ELEMENT_SUBLIST_OFFSET}) '\n",
    "                    f'WHERE {self.FIRST_ELEMENT_SUBLIST_OFFSET} <= {{}} - {self._shifting_n} '\n",
    "                ),\n",
    "                extracted_sub_list_expr,\n",
    "                arr_parsed_list_series,\n",
    "                self._list_series.json.get_array_length(),\n",
    "            ),\n",
    "        )\n",
    "\n",
    "        final_array_list_series = sub_array_list_series.copy_override(\n",
    "            expression=bach.expression.Expression.construct(\n",
    "                f'{_ARRAY_TO_STR_STMT} :: \"text\"',\n",
    "                sub_array_list_series,\n",
    "            )\n",
    "        )\n",
    "        return final_array_list_series\n",
    "\n",
    "\n",
    "class BigQueryListShifterOperation(ListShifterOperation):\n",
    "\n",
    "    def _get_array_parsed_list_series(self) -> bach.SeriesJson:\n",
    "        return self._list_series.copy_override(\n",
    "            expression=bach.expression.Expression.construct(\n",
    "                'JSON_QUERY_ARRAY({})',\n",
    "                self._list_series\n",
    "            )\n",
    "        )\n",
    "\n",
    "    def _get_generated_sublist_offset_expr(self) -> bach.expression.Expression:\n",
    "        start_stmt = f'{self.FIRST_ELEMENT_SUBLIST_OFFSET}'\n",
    "        end_stmt = f'{self.FIRST_ELEMENT_SUBLIST_OFFSET} + {self._shifting_n - 1}'\n",
    "\n",
    "        return bach.expression.Expression.raw(f'GENERATE_ARRAY({start_stmt}, {end_stmt})')\n",
    "\n",
    "    def _get_extract_items_sublist_expr(\n",
    "        self,\n",
    "        array_parsed_series: bach.SeriesJson,\n",
    "        generated_offsets_expr: bach.expression.Expression,\n",
    "    ) -> bach.expression.Expression:\n",
    "        return bach.expression.Expression.construct(\n",
    "            f\"\"\"\n",
    "            SELECT {{}}[OFFSET({self.GENERATED_OFFSET_SUBLIST})]\n",
    "            FROM UNNEST({{}}) as {self.GENERATED_OFFSET_SUBLIST}\n",
    "            \"\"\",\n",
    "            array_parsed_series,\n",
    "            generated_offsets_expr\n",
    "        )\n",
    "\n",
    "    def _get_rshifted_sublists_series(\n",
    "            self,\n",
    "            extracted_sub_list_expr: bach.expression.Expression,\n",
    "            arr_parsed_list_series: bach.SeriesJson,\n",
    "    ) -> bach.SeriesJson:\n",
    "        _ARRAY_TO_STR_STMT = \"'[' || ARRAY_TO_STRING(ARRAY({}), ', ') || ']'\"\n",
    "        sub_array_list_series = self._list_series.copy_override(\n",
    "            expression=bach.expression.Expression.construct(\n",
    "                (\n",
    "                    f'SELECT {_ARRAY_TO_STR_STMT} FROM UNNEST({{}}) WITH OFFSET '\n",
    "                    f'AS {self.FIRST_ELEMENT_SUBLIST_OFFSET} '\n",
    "                    f'WHERE {self.FIRST_ELEMENT_SUBLIST_OFFSET} <= {{}} - {self._shifting_n} '\n",
    "                ),\n",
    "                extracted_sub_list_expr,\n",
    "                arr_parsed_list_series,\n",
    "                self._list_series.json.get_array_length(),\n",
    "            ),\n",
    "        )\n",
    "\n",
    "        final_array_list_series = sub_array_list_series.copy_override(\n",
    "            expression=bach.expression.Expression.construct(\n",
    "                _ARRAY_TO_STR_STMT, sub_array_list_series,\n",
    "            )\n",
    "        )\n",
    "        return final_array_list_series\n"
   ]
  },
  {
   "cell_type": "code",
   "execution_count": 13,
   "id": "10d451a6",
   "metadata": {},
   "outputs": [],
   "source": [
    "def bach_func_gram(list_series: bach.SeriesJson, n: int) -> bach.SeriesJson:\n",
    "    engine = list_series.engine\n",
    "    if is_postgres(engine):\n",
    "        return PostgresListShifterOperation(list_series=list_series, shifting_n=n).r_shift()\n",
    "    \n",
    "    if is_bigquery(engine):\n",
    "        return BigQueryListShifterOperation(list_series=list_series, shifting_n=n).r_shift()\n",
    "    \n",
    "    raise DatabaseNotSupportedException(engine)\n"
   ]
  },
  {
   "cell_type": "code",
   "execution_count": 21,
   "id": "99493f0f",
   "metadata": {},
   "outputs": [],
   "source": [
    "import os\n",
    "def get_steps_df(db_dialect):\n",
    "    if db_dialect == 'postgres':\n",
    "        os.environ[\"DSN\"] = \"postgresql://objectiv:@localhost:5432/objectiv\"\n",
    "    else:\n",
    "        os.environ[\"DSN\"] = \"bigquery://objectiv-production/snowplow\"\n",
    "        os.environ[\"GOOGLE_APPLICATION_CREDENTIALS\"] = (\n",
    "            f\"{os.getcwd().replace('notebooks', 'modelhub')}/.secrets/objectiv-production--bigquery-read-only.json\"\n",
    "        )\n",
    "        \n",
    "    df = modelhub.get_objectiv_dataframe(start_date='2022-02-02')\n",
    "    df['feature_nice_name'] = df.location_stack.ls.nice_name\n",
    "    df_steps = df.groupby('session_id')['feature_nice_name'].to_json_array().reset_index()\n",
    "    df_steps = df_steps.rename(columns={'feature_nice_name': 'steps'})\n",
    "    df_steps = df.merge(df_steps, on='session_id')[['session_id', 'steps']].drop_duplicates()\n",
    "    return df_steps"
   ]
  },
  {
   "cell_type": "code",
   "execution_count": 22,
   "id": "8e6b0677",
   "metadata": {},
   "outputs": [],
   "source": [
    "pg_steps_df = get_steps_df('postgres')\n",
    "bq_steps_df = get_steps_df('bigquery')"
   ]
  },
  {
   "cell_type": "code",
   "execution_count": 24,
   "id": "0f265ac8",
   "metadata": {},
   "outputs": [],
   "source": [
    "pg_func_gram = bach_func_gram(pg_steps_df['steps'], n=3)\n",
    "bq_func_gram = bach_func_gram(bq_steps_df['steps'], n=3)"
   ]
  },
  {
   "cell_type": "code",
   "execution_count": 25,
   "id": "de5d3454",
   "metadata": {},
   "outputs": [
    {
     "data": {
      "text/plain": [
       "event_id\n",
       "6307e080-d6a4-4e7d-b47f-a029b90cf6e1                                                   {}\n",
       "03bfb487-a6ae-4175-bf3a-db127a75a85f    {{\"\\\"Root Location: home\\\"\",\"\\\"Media Player: 2...\n",
       "21629b85-c17a-458b-a5ab-ff4c074a963c    {{\"\\\"Root Location: home\\\"\",\"\\\"Media Player: 2...\n",
       "0f3b8b89-e4ff-4256-9beb-c3f252216699                                                   {}\n",
       "02ad3934-665c-47e9-8d76-c2a7a79f2c60    {{\"\\\"Pressable: hamburger located at Root Loca...\n",
       "                                                              ...                        \n",
       "0f0fc271-a3ca-4952-bed7-90ca7656dbb1    {{\"\\\"Pressable: after located at Root Location...\n",
       "1ba7c155-0521-431d-8f5d-564aa3e8daa6    {{\"\\\"Root Location: home\\\"\",\"\\\"Link: docs loca...\n",
       "0d74fe99-d796-423b-bccb-f7c64a155aa6    {{\"\\\"Expandable: Reference located at Root Loc...\n",
       "044ec938-81c0-496a-9a11-f35412f81614    {{\"\\\"Root Location: home\\\"\",\"\\\"Link: docs loca...\n",
       "110f27ac-183f-44d6-8800-ad8655825699    {{\"\\\"Expandable: Reference located at Root Loc...\n",
       "Name: steps, Length: 4027, dtype: object"
      ]
     },
     "execution_count": 25,
     "metadata": {},
     "output_type": "execute_result"
    }
   ],
   "source": [
    "pg_func_gram.to_pandas()"
   ]
  },
  {
   "cell_type": "code",
   "execution_count": 27,
   "id": "44e208ce",
   "metadata": {},
   "outputs": [
    {
     "name": "stdout",
     "output_type": "stream",
     "text": [
      "with `from_table___0d78d70b3493ee1854302f20f2c99cbb` as (SELECT `contexts_io_objectiv_taxonomy_1_0_0`,`collector_tstamp` FROM `events`),\n",
      "`bq_extra_processing___c73901c9a1ceb3db8227a83b8418c372` as (select `collector_tstamp` as `collector_tstamp`, `contexts_io_objectiv_taxonomy_1_0_0`[OFFSET(0)].`_type` as `event_type`, cast(`contexts_io_objectiv_taxonomy_1_0_0`[OFFSET(0)].`_types` as STRING) as `stack_event_types`, cast(`contexts_io_objectiv_taxonomy_1_0_0`[OFFSET(0)].`global_contexts` as STRING) as `global_contexts`, cast(`contexts_io_objectiv_taxonomy_1_0_0`[OFFSET(0)].`location_stack` as STRING) as `location_stack`, cast(cast(`contexts_io_objectiv_taxonomy_1_0_0`[OFFSET(0)].`time` as STRING) as INT64) as `time`, cast(`contexts_io_objectiv_taxonomy_1_0_0`[OFFSET(0)].`cookie_id` as STRING) as `user_id`, cast(`contexts_io_objectiv_taxonomy_1_0_0`[OFFSET(0)].`event_id` as STRING) as `event_id` \n",
      "from `from_table___0d78d70b3493ee1854302f20f2c99cbb` \n",
      " \n",
      " \n",
      " \n",
      " \n",
      " \n",
      "),\n",
      "`drop_duplicates_event_id___c9e776e21c3d2e7fab7a80654c125326` as (select  distinct `event_id` as `event_id`, first_value(`collector_tstamp`) over (partition by `event_id` order by `collector_tstamp` asc RANGE BETWEEN UNBOUNDED PRECEDING AND CURRENT ROW) as `collector_tstamp`, first_value(`event_type`) over (partition by `event_id` order by `collector_tstamp` asc RANGE BETWEEN UNBOUNDED PRECEDING AND CURRENT ROW) as `event_type`, first_value(`stack_event_types`) over (partition by `event_id` order by `collector_tstamp` asc RANGE BETWEEN UNBOUNDED PRECEDING AND CURRENT ROW) as `stack_event_types`, first_value(`global_contexts`) over (partition by `event_id` order by `collector_tstamp` asc RANGE BETWEEN UNBOUNDED PRECEDING AND CURRENT ROW) as `global_contexts`, first_value(`location_stack`) over (partition by `event_id` order by `collector_tstamp` asc RANGE BETWEEN UNBOUNDED PRECEDING AND CURRENT ROW) as `location_stack`, first_value(`time`) over (partition by `event_id` order by `collector_tstamp` asc RANGE BETWEEN UNBOUNDED PRECEDING AND CURRENT ROW) as `time`, first_value(`user_id`) over (partition by `event_id` order by `collector_tstamp` asc RANGE BETWEEN UNBOUNDED PRECEDING AND CURRENT ROW) as `user_id` \n",
      "from `bq_extra_processing___c73901c9a1ceb3db8227a83b8418c372` \n",
      " \n",
      " \n",
      " \n",
      " \n",
      " \n",
      "),\n",
      "`getitem_where_boolean___ea3f8567d109851b2b4e691f646f62dc` as (select `event_id` as `event_id`, `collector_tstamp` as `collector_tstamp`, `event_type` as `event_type`, `stack_event_types` as `stack_event_types`, `global_contexts` as `global_contexts`, `location_stack` as `location_stack`, `time` as `time`, `user_id` as `user_id`, TIMESTAMP_MILLIS(`time`) as `moment`, cast(TIMESTAMP_MILLIS(`time`) as DATE) as `day` \n",
      "from `drop_duplicates_event_id___c9e776e21c3d2e7fab7a80654c125326` \n",
      "where (cast(TIMESTAMP_MILLIS(`time`) as DATE) >= \"\"\"2022-02-02\"\"\") \n",
      " \n",
      " \n",
      " \n",
      " \n",
      "),\n",
      "`context_data___293e4766e35db6bb8e7f44e1ef8f7c2d` as (select `event_id` as `event_id`, `day` as `day`, `moment` as `moment`, `user_id` as `user_id`, `global_contexts` as `global_contexts`, `location_stack` as `location_stack`, `event_type` as `event_type`, `stack_event_types` as `stack_event_types` \n",
      "from `getitem_where_boolean___ea3f8567d109851b2b4e691f646f62dc` \n",
      " \n",
      " \n",
      " \n",
      " \n",
      " \n",
      "),\n",
      "`session_starts___fa010cc15f081b0576271701f846fdf3` as (select `event_id` as `event_id`, `day` as `day`, `moment` as `moment`, `user_id` as `user_id`, `global_contexts` as `global_contexts`, `location_stack` as `location_stack`, `event_type` as `event_type`, `stack_event_types` as `stack_event_types`, CASE WHEN (UNIX_MICROS(CAST('1970-01-01' AS TIMESTAMP) + ((`moment`) - (lag(`moment`, 1, cast(NULL as TIMESTAMP)) over (partition by `user_id` order by `moment` asc, `event_id` asc )))) * 1e-06 <= 1800) THEN NULL ELSE True END as `is_start_of_session` \n",
      "from `context_data___293e4766e35db6bb8e7f44e1ef8f7c2d` \n",
      " \n",
      " \n",
      " \n",
      " \n",
      " \n",
      "),\n",
      "`session_id_and_count___422d8eae79f7d6b7bb4a95366e01634b` as (select `event_id` as `event_id`, `day` as `day`, `moment` as `moment`, `user_id` as `user_id`, `global_contexts` as `global_contexts`, `location_stack` as `location_stack`, `event_type` as `event_type`, `stack_event_types` as `stack_event_types`, `is_start_of_session` as `is_start_of_session`, CASE WHEN `is_start_of_session` THEN row_number() over (partition by `is_start_of_session` order by `moment` asc, `event_id` asc ) ELSE NULL END as `session_start_id`, count(`is_start_of_session`) over ( order by `user_id` asc, `moment` asc, `event_id` asc RANGE BETWEEN UNBOUNDED PRECEDING AND CURRENT ROW) as `is_one_session` \n",
      "from `session_starts___fa010cc15f081b0576271701f846fdf3` \n",
      " \n",
      " \n",
      " \n",
      " \n",
      " \n",
      "),\n",
      "`objectiv_sessionized_data___f707dfb7554143114f1c5a7ca6819352` as (select `event_id` as `event_id`, `day` as `day`, `moment` as `moment`, `user_id` as `user_id`, `global_contexts` as `global_contexts`, `location_stack` as `location_stack`, `event_type` as `event_type`, `stack_event_types` as `stack_event_types`, `is_start_of_session` as `is_start_of_session`, `session_start_id` as `session_start_id`, `is_one_session` as `is_one_session`, first_value(`session_start_id`) over (partition by `is_one_session` order by `moment` asc, `event_id` asc RANGE BETWEEN UNBOUNDED PRECEDING AND CURRENT ROW) as `session_id`, row_number() over (partition by `is_one_session` order by `moment` asc, `event_id` asc ) as `session_hit_number` \n",
      "from `session_id_and_count___422d8eae79f7d6b7bb4a95366e01634b` \n",
      " \n",
      " \n",
      " \n",
      " \n",
      " \n",
      "),\n",
      "`reset_index___bc4687449887fac91116c78f8833a7fe` as (select `session_id` as `session_id`, to_jsonb(array_agg((\n",
      "                    REGEXP_REPLACE(\n",
      "                        REGEXP_REPLACE(REGEXP_REPLACE(JSON_QUERY(ARRAY_REVERSE(JSON_QUERY_ARRAY(`location_stack`))[SAFE_ORDINAL(1)], '$.\"_type\"'), r'(^\"|\"$)', \"\"\"\"\"\"), '([a-z])([A-Z])', r'\\1 \\2'),\n",
      "                        ' Context$',\n",
      "                        ''\n",
      "                    ) || ': ' || REGEXP_REPLACE(JSON_QUERY(ARRAY_REVERSE(JSON_QUERY_ARRAY(`location_stack`))[SAFE_ORDINAL(1)], '$.\"id\"'), r'(^\"|\"$)', \"\"\"\"\"\")\n",
      "                ) || (\n",
      "                    CASE WHEN ARRAY_LENGTH(JSON_QUERY_ARRAY(`location_stack`)) > 1\n",
      "                    THEN ' located at ' || (SELECT STRING_AGG(\n",
      "                                    REGEXP_REPLACE(\n",
      "                                        REGEXP_REPLACE(REGEXP_REPLACE(JSON_QUERY(element, '$.\"_type\"'), r'(^\"|\"$)', \"\"\"\"\"\"), '([a-z])([A-Z])', r'\\1 \\2'),\n",
      "                                        ' Context$',\n",
      "                                        ''\n",
      "                                    ) || ': ' || REGEXP_REPLACE(JSON_QUERY(element, '$.\"id\"'), r'(^\"|\"$)', \"\"\"\"\"\"),\n",
      "                                    ' => '\n",
      "                                )\n",
      "                                FROM UNNEST (JSON_QUERY_ARRAY(`location_stack`, '$')) AS element WITH OFFSET AS pos\n",
      "                                WHERE pos < (ARRAY_LENGTH(JSON_QUERY_ARRAY(`location_stack`)) - 1)\n",
      "                            )\n",
      "                    ELSE ''\n",
      "                    END\n",
      "                ))) as `feature_nice_name` \n",
      "from `objectiv_sessionized_data___f707dfb7554143114f1c5a7ca6819352` \n",
      " \n",
      "group by `session_id` \n",
      " \n",
      " \n",
      " \n",
      "),\n",
      "`merge_sql___5f5c8664862885ea31377f4e94404e37` as (\n",
      "            select `l`.`event_id` as `event_id`, `l`.`day` as `day`, `l`.`moment` as `moment`, `l`.`user_id` as `user_id`, `l`.`global_contexts` as `global_contexts`, `l`.`location_stack` as `location_stack`, `l`.`event_type` as `event_type`, `l`.`stack_event_types` as `stack_event_types`, COALESCE(`l`.`session_id`, `r`.`session_id`) as `session_id`, `l`.`session_hit_number` as `session_hit_number`, (\n",
      "                    REGEXP_REPLACE(\n",
      "                        REGEXP_REPLACE(REGEXP_REPLACE(JSON_QUERY(ARRAY_REVERSE(JSON_QUERY_ARRAY(`l`.`location_stack`))[SAFE_ORDINAL(1)], '$.\"_type\"'), r'(^\"|\"$)', \"\"\"\"\"\"), '([a-z])([A-Z])', r'\\1 \\2'),\n",
      "                        ' Context$',\n",
      "                        ''\n",
      "                    ) || ': ' || REGEXP_REPLACE(JSON_QUERY(ARRAY_REVERSE(JSON_QUERY_ARRAY(`l`.`location_stack`))[SAFE_ORDINAL(1)], '$.\"id\"'), r'(^\"|\"$)', \"\"\"\"\"\")\n",
      "                ) || (\n",
      "                    CASE WHEN ARRAY_LENGTH(JSON_QUERY_ARRAY(`l`.`location_stack`)) > 1\n",
      "                    THEN ' located at ' || (SELECT STRING_AGG(\n",
      "                                    REGEXP_REPLACE(\n",
      "                                        REGEXP_REPLACE(REGEXP_REPLACE(JSON_QUERY(element, '$.\"_type\"'), r'(^\"|\"$)', \"\"\"\"\"\"), '([a-z])([A-Z])', r'\\1 \\2'),\n",
      "                                        ' Context$',\n",
      "                                        ''\n",
      "                                    ) || ': ' || REGEXP_REPLACE(JSON_QUERY(element, '$.\"id\"'), r'(^\"|\"$)', \"\"\"\"\"\"),\n",
      "                                    ' => '\n",
      "                                )\n",
      "                                FROM UNNEST (JSON_QUERY_ARRAY(`l`.`location_stack`, '$')) AS element WITH OFFSET AS pos\n",
      "                                WHERE pos < (ARRAY_LENGTH(JSON_QUERY_ARRAY(`l`.`location_stack`)) - 1)\n",
      "                            )\n",
      "                    ELSE ''\n",
      "                    END\n",
      "                ) as `feature_nice_name`, `r`.`feature_nice_name` as `steps`\n",
      "            from `objectiv_sessionized_data___f707dfb7554143114f1c5a7ca6819352` as l inner\n",
      "            join `reset_index___bc4687449887fac91116c78f8833a7fe` as r on (`l`.`session_id` = `r`.`session_id`)\n",
      "            ),\n",
      "`drop_duplicates_session_id_s___e9f90ad99a1ff5d0168efee95340fb96` as (select  distinct `session_id` as `session_id`, `steps` as `steps`, first_value(`event_id`) over (partition by `session_id`, `steps` order by `event_id` asc RANGE BETWEEN UNBOUNDED PRECEDING AND CURRENT ROW) as `event_id` \n",
      "from `merge_sql___5f5c8664862885ea31377f4e94404e37` \n",
      " \n",
      " \n",
      " \n",
      " \n",
      " \n",
      ")\n",
      "select `event_id` as `event_id`, '[' || ARRAY_TO_STRING(ARRAY(SELECT '[' || ARRAY_TO_STRING(ARRAY(\n",
      "            SELECT JSON_QUERY_ARRAY(`steps`)[OFFSET(__sublist_item_offset)]\n",
      "            FROM UNNEST(GENERATE_ARRAY(__first_sublist_offset, __first_sublist_offset + 2)) as __sublist_item_offset\n",
      "            ), ', ') || ']' FROM UNNEST(JSON_QUERY_ARRAY(`steps`)) WITH OFFSET AS __first_sublist_offset WHERE __first_sublist_offset <= ARRAY_LENGTH(JSON_QUERY_ARRAY(`steps`)) - 3 ), ', ') || ']' as `steps` \n",
      "from `drop_duplicates_session_id_s___e9f90ad99a1ff5d0168efee95340fb96` \n",
      " \n",
      " \n",
      " \n",
      " \n",
      " \n",
      "\n"
     ]
    }
   ],
   "source": [
    "print(bq_func_gram.view_sql())"
   ]
  },
  {
   "cell_type": "code",
   "execution_count": null,
   "id": "dc278a1c",
   "metadata": {},
   "outputs": [],
   "source": []
  }
 ],
 "metadata": {
  "kernelspec": {
   "display_name": "Python 3 (ipykernel)",
   "language": "python",
   "name": "python3"
  },
  "language_info": {
   "codemirror_mode": {
    "name": "ipython",
    "version": 3
   },
   "file_extension": ".py",
   "mimetype": "text/x-python",
   "name": "python",
   "nbconvert_exporter": "python",
   "pygments_lexer": "ipython3",
   "version": "3.8.10"
  }
 },
 "nbformat": 4,
 "nbformat_minor": 5
}
