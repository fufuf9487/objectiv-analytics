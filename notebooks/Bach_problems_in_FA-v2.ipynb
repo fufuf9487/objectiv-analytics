{
 "cells": [
  {
   "cell_type": "code",
   "execution_count": 2,
   "id": "4bd369f6",
   "metadata": {
    "pycharm": {
     "name": "#%%\n"
    }
   },
   "outputs": [],
   "source": [
    "from datetime import datetime\n",
    "from modelhub import ModelHub\n",
    "from bach import display_sql_as_markdown"
   ]
  },
  {
   "cell_type": "code",
   "execution_count": 3,
   "id": "3756a344-8072-4d6d-9c86-ea6bb8428ff8",
   "metadata": {
    "pycharm": {
     "name": "#%%\n"
    }
   },
   "outputs": [],
   "source": [
    "modelhub = ModelHub(time_aggregation='%Y-%m-%d')"
   ]
  },
  {
   "cell_type": "code",
   "execution_count": 4,
   "id": "da4ec1a0",
   "metadata": {
    "pycharm": {
     "name": "#%%\n"
    }
   },
   "outputs": [],
   "source": [
    "df = modelhub.get_objectiv_dataframe(start_date='2022-02-02')\n",
    "df['feature_nice_name'] = df.location_stack.ls.nice_name"
   ]
  },
  {
   "cell_type": "code",
   "execution_count": 5,
   "id": "fa9f4043",
   "metadata": {
    "pycharm": {
     "name": "#%%\n"
    }
   },
   "outputs": [
    {
     "data": {
      "text/html": [
       "<div>\n",
       "<style scoped>\n",
       "    .dataframe tbody tr th:only-of-type {\n",
       "        vertical-align: middle;\n",
       "    }\n",
       "\n",
       "    .dataframe tbody tr th {\n",
       "        vertical-align: top;\n",
       "    }\n",
       "\n",
       "    .dataframe thead th {\n",
       "        text-align: right;\n",
       "    }\n",
       "</style>\n",
       "<table border=\"1\" class=\"dataframe\">\n",
       "  <thead>\n",
       "    <tr style=\"text-align: right;\">\n",
       "      <th></th>\n",
       "      <th>session_id</th>\n",
       "      <th>steps</th>\n",
       "    </tr>\n",
       "    <tr>\n",
       "      <th>event_id</th>\n",
       "      <th></th>\n",
       "      <th></th>\n",
       "    </tr>\n",
       "  </thead>\n",
       "  <tbody>\n",
       "    <tr>\n",
       "      <th>6307e080-d6a4-4e7d-b47f-a029b90cf6e1</th>\n",
       "      <td>97</td>\n",
       "      <td>[Root Location: blog, Media Player: objectiv-i...</td>\n",
       "    </tr>\n",
       "    <tr>\n",
       "      <th>03bfb487-a6ae-4175-bf3a-db127a75a85f</th>\n",
       "      <td>1651</td>\n",
       "      <td>[Root Location: home, Media Player: 2-minute-v...</td>\n",
       "    </tr>\n",
       "    <tr>\n",
       "      <th>21629b85-c17a-458b-a5ab-ff4c074a963c</th>\n",
       "      <td>2872</td>\n",
       "      <td>[Root Location: home, Media Player: 2-minute-v...</td>\n",
       "    </tr>\n",
       "    <tr>\n",
       "      <th>0f3b8b89-e4ff-4256-9beb-c3f252216699</th>\n",
       "      <td>2116</td>\n",
       "      <td>[Content: post-meet-objectiv-open-source-produ...</td>\n",
       "    </tr>\n",
       "    <tr>\n",
       "      <th>02ad3934-665c-47e9-8d76-c2a7a79f2c60</th>\n",
       "      <td>3600</td>\n",
       "      <td>[Pressable: hamburger located at Root Location...</td>\n",
       "    </tr>\n",
       "    <tr>\n",
       "      <th>...</th>\n",
       "      <td>...</td>\n",
       "      <td>...</td>\n",
       "    </tr>\n",
       "    <tr>\n",
       "      <th>0f0fc271-a3ca-4952-bed7-90ca7656dbb1</th>\n",
       "      <td>3836</td>\n",
       "      <td>[Pressable: after located at Root Location: ho...</td>\n",
       "    </tr>\n",
       "    <tr>\n",
       "      <th>1ba7c155-0521-431d-8f5d-564aa3e8daa6</th>\n",
       "      <td>3852</td>\n",
       "      <td>[Root Location: home, Link: docs located at Ro...</td>\n",
       "    </tr>\n",
       "    <tr>\n",
       "      <th>0d74fe99-d796-423b-bccb-f7c64a155aa6</th>\n",
       "      <td>3720</td>\n",
       "      <td>[Expandable: Reference located at Root Locatio...</td>\n",
       "    </tr>\n",
       "    <tr>\n",
       "      <th>044ec938-81c0-496a-9a11-f35412f81614</th>\n",
       "      <td>3975</td>\n",
       "      <td>[Root Location: home, Link: docs located at Ro...</td>\n",
       "    </tr>\n",
       "    <tr>\n",
       "      <th>110f27ac-183f-44d6-8800-ad8655825699</th>\n",
       "      <td>3957</td>\n",
       "      <td>[Expandable: Reference located at Root Locatio...</td>\n",
       "    </tr>\n",
       "  </tbody>\n",
       "</table>\n",
       "<p>4027 rows × 2 columns</p>\n",
       "</div>"
      ],
      "text/plain": [
       "                                      session_id  \\\n",
       "event_id                                           \n",
       "6307e080-d6a4-4e7d-b47f-a029b90cf6e1          97   \n",
       "03bfb487-a6ae-4175-bf3a-db127a75a85f        1651   \n",
       "21629b85-c17a-458b-a5ab-ff4c074a963c        2872   \n",
       "0f3b8b89-e4ff-4256-9beb-c3f252216699        2116   \n",
       "02ad3934-665c-47e9-8d76-c2a7a79f2c60        3600   \n",
       "...                                          ...   \n",
       "0f0fc271-a3ca-4952-bed7-90ca7656dbb1        3836   \n",
       "1ba7c155-0521-431d-8f5d-564aa3e8daa6        3852   \n",
       "0d74fe99-d796-423b-bccb-f7c64a155aa6        3720   \n",
       "044ec938-81c0-496a-9a11-f35412f81614        3975   \n",
       "110f27ac-183f-44d6-8800-ad8655825699        3957   \n",
       "\n",
       "                                                                                  steps  \n",
       "event_id                                                                                 \n",
       "6307e080-d6a4-4e7d-b47f-a029b90cf6e1  [Root Location: blog, Media Player: objectiv-i...  \n",
       "03bfb487-a6ae-4175-bf3a-db127a75a85f  [Root Location: home, Media Player: 2-minute-v...  \n",
       "21629b85-c17a-458b-a5ab-ff4c074a963c  [Root Location: home, Media Player: 2-minute-v...  \n",
       "0f3b8b89-e4ff-4256-9beb-c3f252216699  [Content: post-meet-objectiv-open-source-produ...  \n",
       "02ad3934-665c-47e9-8d76-c2a7a79f2c60  [Pressable: hamburger located at Root Location...  \n",
       "...                                                                                 ...  \n",
       "0f0fc271-a3ca-4952-bed7-90ca7656dbb1  [Pressable: after located at Root Location: ho...  \n",
       "1ba7c155-0521-431d-8f5d-564aa3e8daa6  [Root Location: home, Link: docs located at Ro...  \n",
       "0d74fe99-d796-423b-bccb-f7c64a155aa6  [Expandable: Reference located at Root Locatio...  \n",
       "044ec938-81c0-496a-9a11-f35412f81614  [Root Location: home, Link: docs located at Ro...  \n",
       "110f27ac-183f-44d6-8800-ad8655825699  [Expandable: Reference located at Root Locatio...  \n",
       "\n",
       "[4027 rows x 2 columns]"
      ]
     },
     "execution_count": 5,
     "metadata": {},
     "output_type": "execute_result"
    }
   ],
   "source": [
    "# construct steps column which is a list of strings \n",
    "df_steps = df.groupby('session_id')['feature_nice_name'].to_json_array().reset_index()\n",
    "df_steps = df_steps.rename(columns={'feature_nice_name': 'steps'})\n",
    "df_steps = df.merge(df_steps, on='session_id')[['session_id', 'steps']].drop_duplicates()\n",
    "df_steps.to_pandas()"
   ]
  },
  {
   "cell_type": "code",
   "execution_count": null,
   "id": "b4496aeb",
   "metadata": {
    "pycharm": {
     "name": "#%%\n"
    }
   },
   "outputs": [],
   "source": []
  },
  {
   "cell_type": "markdown",
   "id": "c0d1d235",
   "metadata": {
    "pycharm": {
     "name": "#%% md\n"
    }
   },
   "source": [
    "## My custom lambda func"
   ]
  },
  {
   "cell_type": "code",
   "execution_count": 6,
   "id": "e59a4154",
   "metadata": {
    "pycharm": {
     "name": "#%%\n"
    }
   },
   "outputs": [
    {
     "data": {
      "text/plain": [
       "[['a', 'b', 'c'], ['b', 'c', 'd'], ['c', 'd', 'e'], ['d', 'e', 'f']]"
      ]
     },
     "execution_count": 6,
     "metadata": {},
     "output_type": "execute_result"
    }
   ],
   "source": [
    "func_ngram = lambda data, n: [data[i: i + n] for i in range(len(data) - n + 1)]\n",
    "\n",
    "func_ngram(['a', 'b', 'c', 'd', 'e', 'f'], 3)"
   ]
  },
  {
   "cell_type": "code",
   "execution_count": 15,
   "id": "b1bee8db",
   "metadata": {},
   "outputs": [
    {
     "data": {
      "text/plain": [
       "4"
      ]
     },
     "execution_count": 15,
     "metadata": {},
     "output_type": "execute_result"
    }
   ],
   "source": [
    "x = ['a', 'b', 'c', 'd', 'e', 'f']\n",
    "len(x) - 3 + 1"
   ]
  },
  {
   "cell_type": "code",
   "execution_count": 16,
   "id": "a0679ca5",
   "metadata": {},
   "outputs": [
    {
     "data": {
      "text/plain": [
       "['a', 'b', 'c', 'd']"
      ]
     },
     "execution_count": 16,
     "metadata": {},
     "output_type": "execute_result"
    }
   ],
   "source": [
    "x[:4]"
   ]
  },
  {
   "cell_type": "markdown",
   "id": "42674d7d",
   "metadata": {
    "pycharm": {
     "name": "#%% md\n"
    }
   },
   "source": [
    "### For each row of `df_steps.steps` want to apply `func_ngram` func"
   ]
  },
  {
   "cell_type": "code",
   "execution_count": 7,
   "id": "0c7ec003",
   "metadata": {
    "pycharm": {
     "name": "#%%\n"
    }
   },
   "outputs": [],
   "source": [
    "df_steps_pandas = df_steps.to_pandas()\n",
    "n_gram = 3 # this value will provide the user\n",
    "\n",
    "df_steps_pandas['desired_col'] = df_steps_pandas['steps'].apply(lambda x: func_ngram(x, n_gram))"
   ]
  },
  {
   "cell_type": "code",
   "execution_count": 8,
   "id": "e4a2f0ce",
   "metadata": {
    "pycharm": {
     "name": "#%%\n"
    }
   },
   "outputs": [
    {
     "data": {
      "text/plain": [
       "['Root Location: blog',\n",
       " 'Media Player: objectiv-in-2-minutes located at Root Location: blog => Content: post-meet-objectiv-open-source-product-analytics-designed-for-data-sc']"
      ]
     },
     "execution_count": 8,
     "metadata": {},
     "output_type": "execute_result"
    }
   ],
   "source": [
    "df_steps_pandas['steps'].iloc[0]"
   ]
  },
  {
   "cell_type": "code",
   "execution_count": 9,
   "id": "3fe0332d",
   "metadata": {
    "pycharm": {
     "name": "#%%\n"
    }
   },
   "outputs": [
    {
     "data": {
      "text/plain": [
       "[]"
      ]
     },
     "execution_count": 9,
     "metadata": {},
     "output_type": "execute_result"
    }
   ],
   "source": [
    "df_steps_pandas['desired_col'].iloc[0]"
   ]
  },
  {
   "cell_type": "code",
   "execution_count": 10,
   "id": "c32dd2b4",
   "metadata": {
    "pycharm": {
     "name": "#%%\n"
    }
   },
   "outputs": [
    {
     "data": {
      "text/plain": [
       "event_id\n",
       "6307e080-d6a4-4e7d-b47f-a029b90cf6e1                                                   []\n",
       "03bfb487-a6ae-4175-bf3a-db127a75a85f    [[Root Location: home, Media Player: 2-minute-...\n",
       "21629b85-c17a-458b-a5ab-ff4c074a963c    [[Root Location: home, Media Player: 2-minute-...\n",
       "0f3b8b89-e4ff-4256-9beb-c3f252216699    [[Content: post-meet-objectiv-open-source-prod...\n",
       "02ad3934-665c-47e9-8d76-c2a7a79f2c60    [[Pressable: hamburger located at Root Locatio...\n",
       "                                                              ...                        \n",
       "0f0fc271-a3ca-4952-bed7-90ca7656dbb1    [[Pressable: after located at Root Location: h...\n",
       "1ba7c155-0521-431d-8f5d-564aa3e8daa6    [[Root Location: home, Link: docs located at R...\n",
       "0d74fe99-d796-423b-bccb-f7c64a155aa6    [[Expandable: Reference located at Root Locati...\n",
       "044ec938-81c0-496a-9a11-f35412f81614    [[Root Location: home, Link: docs located at R...\n",
       "110f27ac-183f-44d6-8800-ad8655825699    [[Expandable: Reference located at Root Locati...\n",
       "Name: steps, Length: 4027, dtype: object"
      ]
     },
     "execution_count": 10,
     "metadata": {},
     "output_type": "execute_result"
    }
   ],
   "source": [
    "df_steps_pandas['steps'].apply(lambda x: func_ngram(x, n_gram))"
   ]
  },
  {
   "cell_type": "code",
   "execution_count": 31,
   "id": "20f9eda3",
   "metadata": {},
   "outputs": [],
   "source": [
    "import bach\n",
    "from sql_models.util import is_postgres, is_bigquery, DatabaseNotSupportedException"
   ]
  },
  {
   "cell_type": "code",
   "execution_count": null,
   "outputs": [],
   "source": [
    "def _bach_func_gram_pg(list_series: bach.SeriesJson, n: int) -> bach.SeriesJson:\n",
    "    ...\n",
    "\n",
    "def _bach_func_gram_bq(list_series: bach.SeriesJson, n: int) -> bach.SeriesJson:\n",
    "    \"\"\"\n",
    "    Steps for generating shifted sublists:\n",
    "        1. Cast list_series expression to array (JSON_QUERY_ARRAY)\n",
    "        2. Generate index of items per sublist\n",
    "        3. Iterate over generated indexes and extract items from original array\n",
    "        4. Generate expression for unnesting original array and creating array\n",
    "            with final sub-lists\n",
    "    \"\"\"\n",
    "    # stmt for converting array type to valid json arrays\n",
    "    _ARRAY_TO_STR_STMT = \"'[' || ARRAY_TO_STRING(ARRAY({}), ', ') || ']'\" \n",
    "    _FIRST_ELEMENT_SUBLIST_OFFSET = '__first_sublist_offset'\n",
    "    _GENERATED_OFFSET_SUBLIST = '__sublist_item_offset'\n",
    "    \n",
    "    \n",
    "    # step 1. cast list string as BQ array\n",
    "    arr_parsed_list_series = list_series.copy_override(\n",
    "        expression=bach.expression.Expression.construct(\n",
    "            'JSON_QUERY_ARRAY({})',\n",
    "            list_series\n",
    "        )\n",
    "    )\n",
    "\n",
    "\n",
    "    # step 2.\n",
    "    # Example: n = 6 and current item_pos = 2. Expression will generate:\n",
    "    # [2, 3, 4, 5]\n",
    "    generated_offsets_expr = bach.expression.Expression.raw(\n",
    "        f\"\"\"\n",
    "            GENERATE_ARRAY(\n",
    "                {_FIRST_ELEMENT_SUBLIST_OFFSET}, {_FIRST_ELEMENT_SUBLIST_OFFSET} + {n - 1}\n",
    "            )\n",
    "        \"\"\"\n",
    "    )\n",
    "    \n",
    "    # step 3. \n",
    "    extracted_sub_list_expr = bach.expression.Expression.construct(\n",
    "        f\"\"\"\n",
    "        SELECT {{}}[OFFSET({_GENERATED_OFFSET_SUBLIST})]\n",
    "        FROM UNNEST({{}}) as {_GENERATED_OFFSET_SUBLIST}\n",
    "        \"\"\",\n",
    "        arr_parsed_list_series,\n",
    "        generated_offsets_expr\n",
    "    )\n",
    "    \n",
    "    # step 4.\n",
    "    sub_array_list_series = list_series.copy_override(\n",
    "        expression=bach.expression.Expression.construct(\n",
    "            (\n",
    "                f'SELECT {_ARRAY_TO_STR_STMT} FROM UNNEST({{}}) WITH OFFSET '\n",
    "                f'AS {_FIRST_ELEMENT_SUBLIST_OFFSET} \\n\\t'\n",
    "                f'WHERE {_FIRST_ELEMENT_SUBLIST_OFFSET} <= {{}} - {n}\\n'\n",
    "            ),\n",
    "            extracted_sub_list_expr,\n",
    "            arr_parsed_list_series,\n",
    "            list_series.json.get_array_length(),\n",
    "        ),\n",
    "    )\n",
    "    \n",
    "    # group all sub-lists into one main list\n",
    "    final_array_list_series = sub_array_list_series.copy_override(\n",
    "        expression=bach.expression.Expression.construct(\n",
    "            _ARRAY_TO_STR_STMT, sub_array_list_series,\n",
    "        )\n",
    "    )\n",
    "    return final_array_list_series\n",
    "\n",
    "    \n",
    "def bach_func_gram(list_series: bach.SeriesJson, n: int) -> bach.SeriesJson:\n",
    "    engine = list_series.engine\n",
    "    if is_postgres(engine):\n",
    "        return _bach_func_gram_pg(list_series, n)\n",
    "    \n",
    "    if is_big_query(engine):\n",
    "        return _bach_func_gram_bq(list_series, n)\n",
    "    \n",
    "    raise DatabaseNotSupportedException(li)\n"
   ],
   "metadata": {
    "collapsed": false,
    "pycharm": {
     "name": "#%%\n"
    }
   }
  },
  {
   "cell_type": "code",
   "execution_count": null,
   "outputs": [],
   "source": [
    "print(_bach_func_gram_bq(df_steps['steps'], n=3).view_sql())"
   ],
   "metadata": {
    "collapsed": false,
    "pycharm": {
     "name": "#%%\n"
    }
   }
  }
 ],
 "metadata": {
  "kernelspec": {
   "display_name": "Python 3 (ipykernel)",
   "language": "python",
   "name": "python3"
  },
  "language_info": {
   "codemirror_mode": {
    "name": "ipython",
    "version": 3
   },
   "file_extension": ".py",
   "mimetype": "text/x-python",
   "name": "python",
   "nbconvert_exporter": "python",
   "pygments_lexer": "ipython3",
   "version": "3.8.10"
  }
 },
 "nbformat": 4,
 "nbformat_minor": 5
}