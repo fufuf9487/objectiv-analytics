{
 "cells": [
  {
   "cell_type": "code",
   "execution_count": null,
   "id": "4bd369f6",
   "metadata": {},
   "outputs": [],
   "source": [
    "from datetime import datetime\n",
    "from modelhub import ModelHub\n",
    "from bach import display_sql_as_markdown"
   ]
  },
  {
   "cell_type": "code",
   "execution_count": null,
   "id": "3756a344-8072-4d6d-9c86-ea6bb8428ff8",
   "metadata": {},
   "outputs": [],
   "source": [
    "# instantiate the model hub and set the default time aggregation to daily\n",
    "modelhub = ModelHub(time_aggregation='%Y-%m-%d')"
   ]
  },
  {
   "cell_type": "code",
   "execution_count": null,
   "id": "da4ec1a0",
   "metadata": {},
   "outputs": [],
   "source": [
    "# get the Bach DataFrame with Objectiv data\n",
    "df = modelhub.get_objectiv_dataframe(start_date='2022-02-02')\n",
    "df['feature_nice_name'] = df.location_stack.ls.nice_name"
   ]
  },
  {
   "cell_type": "code",
   "execution_count": null,
   "id": "f620ff87",
   "metadata": {},
   "outputs": [],
   "source": [
    "# df.groupby('session_id')['feature_nice_name'] #.min().reset_index().head()"
   ]
  },
  {
   "cell_type": "code",
   "execution_count": null,
   "id": "3c4ad65e",
   "metadata": {},
   "outputs": [],
   "source": [
    "pdf = df[['moment', 'session_id', 'feature_nice_name']].to_pandas()"
   ]
  },
  {
   "cell_type": "markdown",
   "id": "06e67883",
   "metadata": {},
   "source": [
    "## Problem 1 (cannot iterate over GroupBy object )"
   ]
  },
  {
   "cell_type": "markdown",
   "id": "da895e0e",
   "metadata": {},
   "source": [
    " > for name, group in df.groupby('A'):\n",
    " \n",
    " https://docs.python.org/3/library/itertools.html#itertools.groupby"
   ]
  },
  {
   "cell_type": "code",
   "execution_count": null,
   "id": "45533e2d",
   "metadata": {},
   "outputs": [],
   "source": [
    "# consequtive steps for each session_id\n",
    "path_list = []\n",
    "for session_id, _df in pdf.groupby('session_id'):\n",
    "    _path = _df.sort_values('moment')['feature_nice_name'].to_list()\n",
    "    path_list.append(_path)\n",
    "len(path_list)"
   ]
  },
  {
   "cell_type": "code",
   "execution_count": null,
   "id": "4e4b7b11",
   "metadata": {},
   "outputs": [],
   "source": [
    "df = df[['session_id', 'moment', 'feature_nice_name']]\n",
    "df = df.sort_values(['session_id', 'moment'])\n",
    "df.head()\n"
   ]
  },
  {
   "cell_type": "code",
   "execution_count": null,
   "id": "fa9f4043",
   "metadata": {},
   "outputs": [],
   "source": [
    "x = df.groupby('session_id')['feature_nice_name'].to_json_array()\n",
    "x.to_pandas()"
   ]
  },
  {
   "cell_type": "code",
   "execution_count": null,
   "id": "01af960d",
   "metadata": {},
   "outputs": [],
   "source": [
    "x.json[0].head()"
   ]
  },
  {
   "cell_type": "code",
   "execution_count": null,
   "id": "66c7c4e4",
   "metadata": {},
   "outputs": [],
   "source": [
    "x.json[1].head()"
   ]
  },
  {
   "cell_type": "code",
   "execution_count": null,
   "id": "038e5e97",
   "metadata": {},
   "outputs": [],
   "source": [
    "x.json.get_array_length().head()"
   ]
  },
  {
   "cell_type": "code",
   "execution_count": null,
   "id": "c6229c10",
   "metadata": {},
   "outputs": [],
   "source": []
  },
  {
   "cell_type": "markdown",
   "id": "c0d1d235",
   "metadata": {},
   "source": [
    "## Cannot apply lambda function over all the data"
   ]
  },
  {
   "cell_type": "code",
   "execution_count": null,
   "id": "e59a4154",
   "metadata": {},
   "outputs": [],
   "source": [
    "from collections import Counter\n",
    "func_ngram = lambda data, n: [data[i: i + n] for i in range(len(data) - n + 1)]"
   ]
  },
  {
   "cell_type": "code",
   "execution_count": null,
   "id": "807d5b08",
   "metadata": {},
   "outputs": [],
   "source": [
    "func_ngram([1,2,3,4,5,6,7,8,9], 3)"
   ]
  },
  {
   "cell_type": "markdown",
   "id": "e07027d9",
   "metadata": {},
   "source": [
    "## Final Goal  - get the most frequent consecutive steps "
   ]
  },
  {
   "cell_type": "code",
   "execution_count": null,
   "id": "dca73d92",
   "metadata": {},
   "outputs": [],
   "source": [
    "n_examples = 2\n",
    "n_gram = 3\n",
    "\n",
    "edge_list = []\n",
    "for _path in path_list:\n",
    "    edge_list.extend(func_ngram(_path, n_gram))\n",
    "_counter = Counter([tuple(i) for i in edge_list]).most_common(n_examples)\n",
    "\n",
    "\n",
    "for cc in _counter:\n",
    "    print(cc, '\\n') \n"
   ]
  },
  {
   "cell_type": "code",
   "execution_count": null,
   "id": "3c7888da",
   "metadata": {},
   "outputs": [],
   "source": [
    "# top_step_sequences(n_steps, by='session_id', n_examples=20, event_type=None)\n",
    "# Features short name ?"
   ]
  },
  {
   "cell_type": "code",
   "execution_count": null,
   "id": "e95f2186",
   "metadata": {},
   "outputs": [],
   "source": []
  }
 ],
 "metadata": {
  "kernelspec": {
   "display_name": "Python 3 (ipykernel)",
   "language": "python",
   "name": "python3"
  },
  "language_info": {
   "codemirror_mode": {
    "name": "ipython",
    "version": 3
   },
   "file_extension": ".py",
   "mimetype": "text/x-python",
   "name": "python",
   "nbconvert_exporter": "python",
   "pygments_lexer": "ipython3",
   "version": "3.8.10"
  }
 },
 "nbformat": 4,
 "nbformat_minor": 5
}
