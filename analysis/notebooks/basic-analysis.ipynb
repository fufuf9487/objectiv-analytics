{
 "cells": [
  {
   "cell_type": "markdown",
   "id": "990f0ae2-48cd-4220-8960-844af284fcce",
   "metadata": {},
   "source": [
    "# Basic product analysis"
   ]
  },
  {
   "cell_type": "markdown",
   "id": "fc19e049-754f-4c0e-8a5a-0ff89bdb7724",
   "metadata": {},
   "source": [
    "In this notebook, we briefly demonstrate how you can easily do basic product analysis on your data."
   ]
  },
  {
   "cell_type": "markdown",
   "id": "277e303e",
   "metadata": {},
   "source": [
    "## Getting started"
   ]
  },
  {
   "cell_type": "code",
   "execution_count": null,
   "id": "4bd369f6",
   "metadata": {},
   "outputs": [],
   "source": [
    "# import Bach\n",
    "from bach_open_taxonomy import ObjectivFrame \n",
    "from bach import display_sql_as_markdown"
   ]
  },
  {
   "cell_type": "code",
   "execution_count": null,
   "id": "da4ec1a0",
   "metadata": {},
   "outputs": [],
   "source": [
    "# connect to SQL db\n",
    "of = ObjectivFrame.from_objectiv_data(db_url='postgresql://@localhost:5433/objectiv',\n",
    "                                      table_name='data',\n",
    "                                      time_aggregation='YYYY-MM-DD',\n",
    "                                      start_date='2022-03-10')"
   ]
  },
  {
   "cell_type": "code",
   "execution_count": null,
   "id": "4e130b67",
   "metadata": {},
   "outputs": [],
   "source": [
    "# adding specific contexts to the data\n",
    "of['application'] = of.global_contexts.gc.get_from_context_with_type_series(type='ApplicationContext', key='id')\n",
    "of['root_location'] = of.location_stack.ls.get_from_context_with_type_series(type='RootLocationContext', key='id')\n",
    "of['referrer'] = of.global_contexts.gc.get_from_context_with_type_series(type='HttpContext', key='referrer')\n",
    "of['feature_nice_name'] = of.location_stack.ls.nice_name\n",
    "of['utm_source'] = of.global_contexts.gc.get_from_context_with_type_series(type='MarketingContext', key='source')\n",
    "of['utm_medium'] = of.global_contexts.gc.get_from_context_with_type_series(type='MarketingContext', key='medium')\n",
    "of['utm_campaign'] = of.global_contexts.gc.get_from_context_with_type_series(type='MarketingContext', key='campaign')\n",
    "of['utm_content'] = of.global_contexts.gc.get_from_context_with_type_series(type='MarketingContext', key='content')\n",
    "of['utm_term'] = of.global_contexts.gc.get_from_context_with_type_series(type='MarketingContext', key='term')"
   ]
  },
  {
   "cell_type": "code",
   "execution_count": null,
   "id": "3c4ad65e",
   "metadata": {},
   "outputs": [],
   "source": [
    "# have a look at the data\n",
    "of.sort_values('session_id', ascending=False).head()"
   ]
  },
  {
   "cell_type": "code",
   "execution_count": null,
   "id": "38aa346a",
   "metadata": {},
   "outputs": [],
   "source": [
    "# explore the data with describe\n",
    "of.describe(include='all').head()"
   ]
  },
  {
   "cell_type": "markdown",
   "id": "03bfa810",
   "metadata": {},
   "source": [
    "## How many users do we have?"
   ]
  },
  {
   "cell_type": "code",
   "execution_count": null,
   "id": "08ad4e39",
   "metadata": {},
   "outputs": [],
   "source": [
    "# model hub: unique users, monthly\n",
    "users = of.model_hub.aggregate.unique_users()\n",
    "users.to_frame().sort_index(ascending=False).head(20)"
   ]
  },
  {
   "cell_type": "code",
   "execution_count": null,
   "id": "172f431c",
   "metadata": {},
   "outputs": [],
   "source": [
    "# model hub: unique users, daily\n",
    "users = of.model_hub.aggregate.unique_users()\n",
    "users.to_frame().sort_index(ascending=False).head(10)"
   ]
  },
  {
   "cell_type": "code",
   "execution_count": null,
   "id": "fec344a2",
   "metadata": {},
   "outputs": [],
   "source": [
    "# TODO WHEN WE CAN GROUP: model hub: uniqu users, by main product area (called RootLocation)\n",
    "users_root = of.groupby(['application', 'root_location']).agg({'user_id':'nunique'})\n",
    "users_root.sort_values('user_id_nunique', ascending=False).head(10)"
   ]
  },
  {
   "cell_type": "markdown",
   "id": "1a6de3da",
   "metadata": {},
   "source": [
    "## What is their time spent?"
   ]
  },
  {
   "cell_type": "code",
   "execution_count": null,
   "id": "5ad07abd-e62e-41d3-9033-cdacb906551f",
   "metadata": {},
   "outputs": [],
   "source": [
    "# model hub: duration, total month\n",
    "duration = of.model_hub.aggregate.session_duration(time_aggregation='YYYY-MM')\n",
    "duration.to_frame().sort_index(ascending=False).head()"
   ]
  },
  {
   "cell_type": "code",
   "execution_count": null,
   "id": "9fb041b2",
   "metadata": {},
   "outputs": [],
   "source": [
    "# model hub: duration, daily\n",
    "duration = of.model_hub.aggregate.session_duration()\n",
    "duration.to_frame().sort_index(ascending=False).head()"
   ]
  },
  {
   "cell_type": "code",
   "execution_count": null,
   "id": "4f929f0a",
   "metadata": {},
   "outputs": [],
   "source": [
    "# duration for RootLocation home \n",
    "of[(of.root_location == 'home')].model_hub.aggregate.session_duration(time_aggregation='YYYY-MM').head()"
   ]
  },
  {
   "cell_type": "code",
   "execution_count": null,
   "id": "488718ce",
   "metadata": {},
   "outputs": [],
   "source": [
    "# duration for RootLocation blog\n",
    "of[(of.root_location == 'blog')].model_hub.aggregate.session_duration(time_aggregation='YYYY-MM').head()"
   ]
  },
  {
   "cell_type": "code",
   "execution_count": null,
   "id": "5d8dce27",
   "metadata": {
    "scrolled": true
   },
   "outputs": [],
   "source": [
    "# duration for the whole docs\n",
    "of[(of.application == 'objectiv-docs')].model_hub.aggregate.session_duration(time_aggregation='YYYY-MM').head()"
   ]
  },
  {
   "cell_type": "code",
   "execution_count": null,
   "id": "3cdd1e88",
   "metadata": {},
   "outputs": [],
   "source": [
    "# how is this time spent distributed?\n",
    "\n",
    "# first calculate the duration of each session\n",
    "session_duration = of.groupby(['session_id']).agg({'moment':['min', 'max']})\n",
    "session_duration['duration'] = session_duration['moment_max'] - session_duration['moment_min']\n",
    "\n",
    "# materizalize the df\n",
    "session_duration.materialize(inplace=True)\n",
    "\n",
    "# define the quantiles \n",
    "quantiles = [0.25, 0.50, 0.75]\n",
    "\n",
    "# distribution of time spemt\n",
    "session_duration['duration'].quantile(q=quantiles).to_frame().head()"
   ]
  },
  {
   "cell_type": "markdown",
   "id": "c0e6a29a",
   "metadata": {},
   "source": [
    "## What are the top user interactions?"
   ]
  },
  {
   "cell_type": "code",
   "execution_count": null,
   "id": "63a3c654-0871-4392-8bdc-cc92b783b22c",
   "metadata": {},
   "outputs": [],
   "source": [
    "# select PressEvent and MediaStart event, to focus on user actions\n",
    "users_feature = of[(of.event_type == 'PressEvent') |\n",
    "                   (of.event_type == 'MediaStartEvent')]\n",
    "\n",
    "# users by feature\n",
    "users_feature = users_feature.groupby(['application', 'feature_nice_name', 'event_type']).agg({'user_id':'nunique'})\n",
    "users_feature.sort_values('user_id_nunique', ascending=False).head()"
   ]
  },
  {
   "cell_type": "markdown",
   "id": "dcf82009",
   "metadata": {},
   "source": [
    "## What users do in each of the main product areas?"
   ]
  },
  {
   "cell_type": "code",
   "execution_count": null,
   "id": "a757be5a",
   "metadata": {},
   "outputs": [],
   "source": [
    "# TODO: fix with model hub when we can group \n",
    "\n",
    "# select homepage RootLocation only\n",
    "home_users = of[(of.root_location == 'home')]\n",
    "\n",
    "# select website only and exclude the docs\n",
    "home_users = home_users[(home_users.application == 'objectiv-website')]\n",
    "\n",
    "# select PressEvent and MediaStart event, to focus on user actions\n",
    "home_users = home_users[(home_users.event_type == 'PressEvent') |\n",
    "                        (home_users.event_type == 'MediaStartEvent')]\n",
    "\n",
    "# home users by feature\n",
    "home_users = home_users.groupby(['feature_nice_name', 'event_type']).agg({'user_id':'nunique'})\n",
    "home_users.sort_values('user_id_nunique', ascending=False).head()"
   ]
  },
  {
   "cell_type": "markdown",
   "id": "e9e5de5a",
   "metadata": {},
   "source": [
    "## What users do most in docs?"
   ]
  },
  {
   "cell_type": "code",
   "execution_count": null,
   "id": "3f8c4ae0",
   "metadata": {},
   "outputs": [],
   "source": [
    "# select docs RootLocation only\n",
    "docs_users = of[(of.application == 'objectiv-docs')]\n",
    "\n",
    "# select PressEvent and MediaStart event, to focus on user actions\n",
    "docs_users = docs_users[(docs_users.event_type == 'PressEvent') |\n",
    "                        (docs_users.event_type == 'MediaStartEvent')]\n",
    "    \n",
    "# docs users by feature\n",
    "docs_users = docs_users.groupby(['feature_nice_name', 'event_type']).agg({'user_id':'nunique'})\n",
    "docs_users.sort_values('user_id_nunique', ascending=False).head()"
   ]
  },
  {
   "cell_type": "markdown",
   "id": "eb7374f3",
   "metadata": {},
   "source": [
    "## Where are users coming from?"
   ]
  },
  {
   "cell_type": "code",
   "execution_count": null,
   "id": "6aa28364",
   "metadata": {},
   "outputs": [],
   "source": [
    "# users by referrer\n",
    "referrer_users = of.groupby(['referrer']).agg({'user_id':'nunique'})\n",
    "referrer_users.sort_values('user_id_nunique', ascending=False).head()"
   ]
  },
  {
   "cell_type": "markdown",
   "id": "1ed9716e-8732-4979-9307-00e44bd33961",
   "metadata": {},
   "source": [
    "## How are marketing campaigns performing?"
   ]
  },
  {
   "cell_type": "code",
   "execution_count": null,
   "id": "6cb3c381-a44e-4fd1-b451-634a09a4e74b",
   "metadata": {},
   "outputs": [],
   "source": [
    "# users by marketing campaign\n",
    "campaign_users = of.groupby(['utm_source', 'utm_medium', 'utm_campaign', 'utm_content', 'utm_term']).agg({'user_id':'nunique'})\n",
    "campaign_users = campaign_users.reset_index().dropna(axis=0, how='any', subset='utm_source')\n",
    "\n",
    "\n",
    "campaign_users.sort_values('utm_source', ascending=True).head(20)"
   ]
  },
  {
   "cell_type": "code",
   "execution_count": null,
   "id": "b0f9477d-bb58-45de-9ad0-57412cab6b00",
   "metadata": {},
   "outputs": [],
   "source": [
    "# select PressEvent and MediaStart event, to focus on user actions\n",
    "users_feature_campaign = of[(of.event_type == 'PressEvent') |\n",
    "                         (of.event_type == 'MediaStartEvent')]\n",
    "\n",
    "# users by feature per campaign source & term\n",
    "users_feature_campaign = users_feature_campaign.groupby(['utm_source', 'utm_term', 'feature_nice_name', 'event_type']).agg({'user_id':'nunique'})\n",
    "users_feature_campaign = users_feature_campaign.reset_index().dropna(axis=0, how='any', subset='utm_source')\n",
    "\n",
    "users_feature_campaign.sort_values(['utm_source', 'utm_term', 'user_id_nunique'], ascending=[True, True, False]).head(50)"
   ]
  },
  {
   "cell_type": "markdown",
   "id": "3bda262d",
   "metadata": {},
   "source": [
    "## How are conversions doing?"
   ]
  },
  {
   "cell_type": "code",
   "execution_count": null,
   "id": "897180ac",
   "metadata": {
    "scrolled": true
   },
   "outputs": [],
   "source": [
    "# define which events to use as conversion events\n",
    "of.add_conversion_event(location_stack=of.location_stack.json[{'id': 'objectiv-on-github', \n",
    "                                                               '_type': 'LinkContext'}:].fillna(\n",
    "                                       of.location_stack.json[{'id': 'github', '_type': 'LinkContext'}:]).fillna(\n",
    "                                       of.location_stack.json[{'id': 'star-us-on-github', '_type': 'LinkContext'}:]),\n",
    "                        event_type='PressEvent',\n",
    "                        name='github_press')"
   ]
  },
  {
   "cell_type": "code",
   "execution_count": null,
   "id": "f4f6f7e7",
   "metadata": {},
   "outputs": [],
   "source": [
    "# model hub: calculate conversions\n",
    "conversions = of.model_hub.filter(of.model_hub.map.is_conversion_event('github_press'))\\\n",
    "                .model_hub.aggregate.unique_users()\n",
    "\n",
    "conversions.to_frame().sort_index(ascending=False).head(10)"
   ]
  },
  {
   "cell_type": "code",
   "execution_count": null,
   "id": "f4fa4649-1300-4647-bd67-616e95bc96d6",
   "metadata": {},
   "outputs": [],
   "source": [
    "# use earlier model hub outputs to calculate conversion rate\n",
    "conversion_rate = users.to_frame().merge(conversions.to_frame(), how='inner', on='time_aggregation', suffixes=['_total', '_converted'])\n",
    "conversion_rate['conversion_rate'] = conversion_rate['unique_users_converted'] / conversion_rate['unique_users_total']\n",
    "conversion_rate.drop(columns=['unique_users_converted', 'unique_users_total'])\n",
    "\n",
    "conversion_rate.sort_index(ascending=False).head(10)"
   ]
  },
  {
   "cell_type": "code",
   "execution_count": null,
   "id": "88a0e85b",
   "metadata": {},
   "outputs": [],
   "source": [
    "# from where do users convert most?\n",
    "conversion_locations = of.model_hub.filter(of.model_hub.map.is_conversion_event('github_press'))\\\n",
    "                         .groupby(['application', 'feature_nice_name', 'event_type'])\\\n",
    "                         .agg({'user_id':'nunique'})\n",
    "\n",
    "conversion_locations.sort_values('user_id_nunique', ascending=False).head()"
   ]
  },
  {
   "cell_type": "code",
   "execution_count": null,
   "id": "c24b0d9a",
   "metadata": {},
   "outputs": [],
   "source": [
    "# what are users doing before they convert?\n",
    "\n",
    "# select sessions with a conversion\n",
    "converted_users = of.model_hub.filter(of.model_hub.map.conversions_counter(name='github_press')>=1)\n",
    "\n",
    "# from those, select hits where number of conversions was still 0\n",
    "converted_users = converted_users.mh.filter(converted_users.model_hub.map.conversions_in_time('github_press')==0)\n",
    "\n",
    "# select PressEvent and MediaStart event, to focus on user actions\n",
    "converted_users = converted_users[(converted_users.event_type == 'PressEvent') |\n",
    "                 (converted_users.event_type == 'MediaStartEvent')]\n",
    "\n",
    "converted_users.groupby(['application', 'feature_nice_name', 'event_type']).agg({'user_id':'nunique'})\\\n",
    "    .sort_values('user_id_nunique', ascending=False).head(10)"
   ]
  },
  {
   "cell_type": "code",
   "execution_count": null,
   "id": "a92b905b",
   "metadata": {},
   "outputs": [],
   "source": [
    "# how much time do users spent before they convert?\n",
    "converted_users.model_hub.aggregate.session_duration(time_aggregation='YYYY-MM').to_frame().head()"
   ]
  },
  {
   "cell_type": "markdown",
   "id": "c4b5b4d2-d72b-4f10-9702-afe22015b74f",
   "metadata": {},
   "source": [
    "## Get the SQL for any analysis"
   ]
  },
  {
   "cell_type": "code",
   "execution_count": null,
   "id": "3503632c-bd17-462f-a7e2-9b27a390c673",
   "metadata": {},
   "outputs": [],
   "source": [
    "# just one analysis as an example, this works for anything you do with Objectiv Bach\n",
    "display_sql_as_markdown(conversions)"
   ]
  }
 ],
 "metadata": {
  "kernelspec": {
   "display_name": "Python 3 (ipykernel)",
   "language": "python",
   "name": "python3"
  },
  "language_info": {
   "codemirror_mode": {
    "name": "ipython",
    "version": 3
   },
   "file_extension": ".py",
   "mimetype": "text/x-python",
   "name": "python",
   "nbconvert_exporter": "python",
   "pygments_lexer": "ipython3",
   "version": "3.9.10"
  }
 },
 "nbformat": 4,
 "nbformat_minor": 5
}
